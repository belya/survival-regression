{
 "cells": [
  {
   "cell_type": "code",
   "execution_count": 1,
   "metadata": {},
   "outputs": [],
   "source": [
    "import catboost"
   ]
  },
  {
   "cell_type": "code",
   "execution_count": 2,
   "metadata": {},
   "outputs": [],
   "source": [
    "from lifelines.datasets import load_rossi"
   ]
  },
  {
   "cell_type": "code",
   "execution_count": 3,
   "metadata": {},
   "outputs": [],
   "source": [
    "from lifelines import CoxPHFitter\n",
    "from lifelines.datasets import load_rossi"
   ]
  },
  {
   "cell_type": "code",
   "execution_count": 4,
   "metadata": {},
   "outputs": [],
   "source": [
    "rossi_df = load_rossi()"
   ]
  },
  {
   "cell_type": "code",
   "execution_count": 5,
   "metadata": {},
   "outputs": [],
   "source": [
    "import numpy as np\n",
    "from catboost import Pool, CatBoostRegressor"
   ]
  },
  {
   "cell_type": "code",
   "execution_count": 6,
   "metadata": {},
   "outputs": [],
   "source": [
    "from time import sleep"
   ]
  },
  {
   "cell_type": "code",
   "execution_count": 7,
   "metadata": {},
   "outputs": [],
   "source": [
    "class ProportionalLikelihood(object):\n",
    "    reg = None\n",
    "    \n",
    "    def __init__(self, reg):\n",
    "        self.reg = reg\n",
    "        \n",
    "    def get_final_error(self, error, weight):\n",
    "        return error\n",
    "\n",
    "    def is_max_optimal(self):\n",
    "        return True\n",
    "    \n",
    "    def set_unique_time(self, t):\n",
    "        t = t.copy()\n",
    "        t = t.astype(float)\n",
    "        for value in np.unique(t):\n",
    "            t[t == value] += np.arange(t[t == value].shape[0]) / (100 * t[t == value].shape[0])\n",
    "        return t\n",
    "\n",
    "    def evaluate(self, h, t, sigma, der1_test=False, loss_test=False):\n",
    "        t = self.set_unique_time(t)\n",
    "        N = t.shape[0]\n",
    "        \n",
    "        initial_h = h[0] \n",
    "        h = np.exp(h[0])\n",
    "        \n",
    "        assert np.unique(t).shape[0] == t.shape[0], \"All t should be unique\"\n",
    "        \n",
    "        sorted_h = h[np.argsort(t)]\n",
    "        cumsum_h = np.cumsum(sorted_h[::-1])[::-1]\n",
    "        eloss = (sorted_h / cumsum_h)\n",
    "        \n",
    "        reg_part = (initial_h ** 2).sum()\n",
    "        \n",
    "        loss_sum = -np.log(eloss).sum() + self.reg * reg_part\n",
    "        \n",
    "        if loss_test:\n",
    "            return sorted_h, cumsum_h\n",
    "        \n",
    "        if der1_test:\n",
    "            return loss_sum\n",
    "        \n",
    "        return loss_sum, N#np.sum(1 - sigma)#-np.log(loss).sum(), \n",
    "    \n",
    "    def calc_ders_range(self, h, t, sigma, der1_test=False, der2_test=False):\n",
    "        N = t.shape[0]\n",
    "        t = self.set_unique_time(t)\n",
    "        \n",
    "        initial_h = h\n",
    "        h = np.exp(h) # Possible math overflow!\n",
    "        \n",
    "        sorted_h_indices = np.argsort(t)\n",
    "        rev_sorted_h_indices = np.argsort(sorted_h_indices)\n",
    "        \n",
    "        initial_sorted_h = initial_h[sorted_h_indices]\n",
    "        sorted_h = h[sorted_h_indices] # hi\n",
    "        cumsum_h = np.cumsum(sorted_h[::-1])[::-1] #Ci\n",
    "        \n",
    "        h_frac = 1 / sorted_h \n",
    "        cumsum_h_frac = 1 / cumsum_h \n",
    "        cumsum_h_frac_cumsum = np.cumsum(cumsum_h_frac)\n",
    "        \n",
    "        der1_part = (cumsum_h_frac_cumsum - h_frac)\n",
    "        \n",
    "        der1 = der1_part * sorted_h + 2 * self.reg * initial_sorted_h\n",
    "        \n",
    "        if der1_test:\n",
    "            print(der1)\n",
    "            return der1[rev_sorted_h_indices]\n",
    "        \n",
    "        h_frac_square = 1 / (sorted_h ** 2)\n",
    "        cumsum_h_frac_square = 1 / (cumsum_h ** 2)\n",
    "        cumsum_h_frac_square_cumsum = np.cumsum(cumsum_h_frac_square)\n",
    "        \n",
    "        der2_part = h_frac_square - cumsum_h_frac_square_cumsum\n",
    "        \n",
    "        der2 = sorted_h * (der1_part + der2_part * sorted_h) + self.reg * 2 * np.sign(initial_sorted_h)\n",
    "        \n",
    "        if der2_test:\n",
    "            return der2[rev_sorted_h_indices]\n",
    "        \n",
    "        return np.vstack([\n",
    "            -der1[rev_sorted_h_indices],\n",
    "            -der2[rev_sorted_h_indices]\n",
    "        ]).T"
   ]
  },
  {
   "cell_type": "markdown",
   "metadata": {},
   "source": [
    "# Debugging derivatives"
   ]
  },
  {
   "cell_type": "code",
   "execution_count": 8,
   "metadata": {},
   "outputs": [],
   "source": [
    "loss = ProportionalLikelihood(reg=0)"
   ]
  },
  {
   "cell_type": "code",
   "execution_count": 9,
   "metadata": {},
   "outputs": [
    {
     "data": {
      "text/plain": [
       "(0.32243617210995773, 3)"
      ]
     },
     "execution_count": 9,
     "metadata": {},
     "output_type": "execute_result"
    }
   ],
   "source": [
    "# Correct risk\n",
    "loss.evaluate(\n",
    "    (np.array([2, 3, 8]), ), \n",
    "    np.array([3, 2, 1]), \n",
    "    np.array([0, 0, 0]),\n",
    "#     loss_test=True\n",
    ")"
   ]
  },
  {
   "cell_type": "code",
   "execution_count": 10,
   "metadata": {},
   "outputs": [
    {
     "data": {
      "text/plain": [
       "(6.015889833080853, 3)"
      ]
     },
     "execution_count": 10,
     "metadata": {},
     "output_type": "execute_result"
    }
   ],
   "source": [
    "# One element is wrong\n",
    "loss.evaluate(\n",
    "    (np.array([2, 3, 8]), ), \n",
    "    np.array([0, 4, 2]), \n",
    "    np.array([0, 0, 0]),\n",
    "#     loss_test=True\n",
    ")"
   ]
  },
  {
   "cell_type": "code",
   "execution_count": 11,
   "metadata": {},
   "outputs": [
    {
     "data": {
      "text/plain": [
       "(11.015889833080852, 3)"
      ]
     },
     "execution_count": 11,
     "metadata": {},
     "output_type": "execute_result"
    }
   ],
   "source": [
    "# Everything is incorrect\n",
    "loss.evaluate(\n",
    "    (np.array([2, 3, 8]), ), \n",
    "    np.array([2, 3, 8]), \n",
    "    np.array([0, 0, 0]),\n",
    "#     loss_test=True\n",
    ")"
   ]
  },
  {
   "cell_type": "code",
   "execution_count": 12,
   "metadata": {},
   "outputs": [
    {
     "data": {
      "text/plain": [
       "(11.015889833080852, 3)"
      ]
     },
     "execution_count": 12,
     "metadata": {},
     "output_type": "execute_result"
    }
   ],
   "source": [
    "loss.evaluate(\n",
    "    (np.array([2, 3, 8]), ), \n",
    "    np.array([1, 2, 3]), \n",
    "    np.array([0, 0, 0]),\n",
    "#     loss_test=True\n",
    ")"
   ]
  },
  {
   "cell_type": "code",
   "execution_count": 13,
   "metadata": {},
   "outputs": [
    {
     "data": {
      "text/plain": [
       "11.011650169729464"
      ]
     },
     "execution_count": 13,
     "metadata": {},
     "output_type": "execute_result"
    }
   ],
   "source": [
    "loss.evaluate(\n",
    "    (np.array([2, 3, 8]), ), \n",
    "    np.array([1, 0, 2]), \n",
    "    np.array([0, 0, 0]),\n",
    "    der1_test=True\n",
    ")"
   ]
  },
  {
   "cell_type": "code",
   "execution_count": 14,
   "metadata": {},
   "outputs": [],
   "source": [
    "delta = 0.001"
   ]
  },
  {
   "cell_type": "code",
   "execution_count": 15,
   "metadata": {},
   "outputs": [
    {
     "data": {
      "text/plain": [
       "-0.9975261843937488"
      ]
     },
     "execution_count": 15,
     "metadata": {},
     "output_type": "execute_result"
    }
   ],
   "source": [
    "# # First derivative, i=1\n",
    "((loss.evaluate(\n",
    "    (np.array([2 + delta, -3, 8]), ), \n",
    "    np.array([0, 4, 2]), \n",
    "    np.array([0, 0, 0]),\n",
    "    der1_test=True\n",
    ") - loss.evaluate(\n",
    "    (np.array([2, -3, 8]), ), \n",
    "    np.array([0, 4, 2]), \n",
    "    np.array([0, 0, 0]),\n",
    "    der1_test=True\n",
    ")) / delta)"
   ]
  },
  {
   "cell_type": "code",
   "execution_count": 16,
   "metadata": {},
   "outputs": [
    {
     "data": {
      "text/plain": [
       "3.337823439863996e-05"
      ]
     },
     "execution_count": 16,
     "metadata": {},
     "output_type": "execute_result"
    }
   ],
   "source": [
    "# First derivative, i=2\n",
    "((loss.evaluate(\n",
    "    (np.array([2, -3 + delta, 8]), ), \n",
    "    np.array([0, 4, 2]), \n",
    "    np.array([0, 0, 0]),\n",
    "    der1_test=True\n",
    ") - loss.evaluate(\n",
    "    (np.array([2, -3, 8]), ), \n",
    "    np.array([0, 4, 2]), \n",
    "    np.array([0, 0, 0]),\n",
    "    der1_test=True\n",
    ")) / delta)\n"
   ]
  },
  {
   "cell_type": "code",
   "execution_count": 17,
   "metadata": {},
   "outputs": [
    {
     "data": {
      "text/plain": [
       "0.9974953059481706"
      ]
     },
     "execution_count": 17,
     "metadata": {},
     "output_type": "execute_result"
    }
   ],
   "source": [
    "# First derivative, i=3\n",
    "((loss.evaluate(\n",
    "    (np.array([2, -3, 8 + delta]), ), \n",
    "    np.array([0, 4, 2]), \n",
    "    np.array([0, 0, 0]),\n",
    "    der1_test=True\n",
    ") - loss.evaluate(\n",
    "    (np.array([2, -3, 8]), ), \n",
    "    np.array([0, 4, 2]), \n",
    "    np.array([0, 0, 0]),\n",
    "    der1_test=True\n",
    ")) / delta)\n"
   ]
  },
  {
   "cell_type": "code",
   "execution_count": 18,
   "metadata": {},
   "outputs": [
    {
     "name": "stdout",
     "output_type": "stream",
     "text": [
      "[-9.97527418e-01  9.97494056e-01  3.33615481e-05]\n"
     ]
    },
    {
     "data": {
      "text/plain": [
       "array([-9.97527418e-01,  3.33615481e-05,  9.97494056e-01])"
      ]
     },
     "execution_count": 18,
     "metadata": {},
     "output_type": "execute_result"
    }
   ],
   "source": [
    "loss.calc_ders_range(\n",
    "    np.array([2, -3, 8]), \n",
    "    np.array([0, 4, 2]), \n",
    "    np.array([0, 0, 0]),\n",
    "    der1_test=True\n",
    ")"
   ]
  },
  {
   "cell_type": "code",
   "execution_count": 19,
   "metadata": {},
   "outputs": [
    {
     "name": "stdout",
     "output_type": "stream",
     "text": [
      "[-0.99752495 -0.99996664  1.99749159]\n",
      "[-0.99752742 -0.99996664  1.99749406]\n"
     ]
    },
    {
     "data": {
      "text/plain": [
       "0.002467695841779083"
      ]
     },
     "execution_count": 19,
     "metadata": {},
     "output_type": "execute_result"
    }
   ],
   "source": [
    "# Second derivative, i = 1\n",
    "(\n",
    "    loss.calc_ders_range(\n",
    "        np.array([2 + delta, -3, 8]), \n",
    "        np.array([0, 1, 2]), \n",
    "        np.array([0, 0, 0]),\n",
    "        der1_test=True\n",
    "    ) - loss.calc_ders_range(\n",
    "        np.array([2, -3, 8]), \n",
    "        np.array([0, 1, 2]), \n",
    "        np.array([0, 0, 0]),\n",
    "        der1_test=True\n",
    "    )\n",
    ")[0] / delta"
   ]
  },
  {
   "cell_type": "code",
   "execution_count": 20,
   "metadata": {
    "scrolled": true
   },
   "outputs": [
    {
     "name": "stdout",
     "output_type": "stream",
     "text": [
      "[-0.99752742 -0.99996661  1.99749402]\n",
      "[-0.99752742 -0.99996664  1.99749406]\n"
     ]
    },
    {
     "data": {
      "text/plain": [
       "3.33776771777039e-05"
      ]
     },
     "execution_count": 20,
     "metadata": {},
     "output_type": "execute_result"
    }
   ],
   "source": [
    "# Second derivative, i = 2\n",
    "(\n",
    "    loss.calc_ders_range(\n",
    "        np.array([2, -3 + delta, 8]), \n",
    "        np.array([0, 1, 2]), \n",
    "        np.array([0, 0, 0]),\n",
    "        der1_test=True\n",
    "    ) - loss.calc_ders_range(\n",
    "        np.array([2, -3, 8]), \n",
    "        np.array([0, 1, 2]), \n",
    "        np.array([0, 0, 0]),\n",
    "        der1_test=True\n",
    "    )\n",
    ")[1] / delta"
   ]
  },
  {
   "cell_type": "code",
   "execution_count": 21,
   "metadata": {},
   "outputs": [
    {
     "name": "stdout",
     "output_type": "stream",
     "text": [
      "[-0.99752988 -0.99996667  1.99749655]\n",
      "[-0.99752742 -0.99996664  1.99749406]\n"
     ]
    },
    {
     "data": {
      "text/plain": [
       "0.0024985036235491975"
      ]
     },
     "execution_count": 21,
     "metadata": {},
     "output_type": "execute_result"
    }
   ],
   "source": [
    "# Second derivative, i = 3\n",
    "(\n",
    "    loss.calc_ders_range(\n",
    "        np.array([2, -3, 8 + delta]), \n",
    "        np.array([0, 1, 2]), \n",
    "        np.array([0, 0, 0]),\n",
    "        der1_test=True\n",
    "    ) - loss.calc_ders_range(\n",
    "        np.array([2, -3, 8]), \n",
    "        np.array([0, 1, 2]), \n",
    "        np.array([0, 0, 0]),\n",
    "        der1_test=True\n",
    "    )\n",
    ")[2] / delta"
   ]
  },
  {
   "cell_type": "code",
   "execution_count": 22,
   "metadata": {},
   "outputs": [
    {
     "data": {
      "text/plain": [
       "array([2.46646830e-03, 3.33609916e-05, 2.49974691e-03])"
      ]
     },
     "execution_count": 22,
     "metadata": {},
     "output_type": "execute_result"
    }
   ],
   "source": [
    "loss.calc_ders_range(\n",
    "    np.array([2, -3, 8]), \n",
    "    np.array([0, 1, 2]), \n",
    "    np.array([0, 0, 0]),\n",
    "    der2_test=True\n",
    ")"
   ]
  },
  {
   "cell_type": "markdown",
   "metadata": {},
   "source": [
    "### Difficult cases"
   ]
  },
  {
   "cell_type": "code",
   "execution_count": 23,
   "metadata": {},
   "outputs": [],
   "source": [
    "# test_t = np.array([20, 17, 25, 23, 37, 25, 46, 28, 24, 50])\n",
    "# test_h = np.array([ 1.0579772  , 1.3556235 ,  1.59537611 , 0.42585979 , 1.44649814 , 0.5426282,\n",
    "#  -2.33794021,  0.20124088, -0.42943875, -1.66655973])\n",
    "\n",
    "test_t = np.array([20, 17, 25, 23, 37, 25.1, 46, 28])\n",
    "test_h = np.array([ 1.0579772  , 1.3556235 ,  1.59537611 , 0.42585979 , 1.44649814 , 0.5426282,\n",
    " -2.33794021,  0.20124088])\n",
    "test_sigma = np.zeros(test_t.shape[0])"
   ]
  },
  {
   "cell_type": "code",
   "execution_count": 24,
   "metadata": {},
   "outputs": [
    {
     "data": {
      "text/plain": [
       "array([1, 0, 3, 2, 5, 7, 4, 6])"
      ]
     },
     "execution_count": 24,
     "metadata": {},
     "output_type": "execute_result"
    }
   ],
   "source": [
    "np.argsort(test_t)"
   ]
  },
  {
   "cell_type": "code",
   "execution_count": 25,
   "metadata": {},
   "outputs": [],
   "source": [
    "def get_numeric_derivative(h, t, sigma, i):\n",
    "    h_increased = h.copy()\n",
    "    h_increased[i] += delta\n",
    "    \n",
    "    return ((loss.evaluate(\n",
    "        (h_increased, ), \n",
    "        t, \n",
    "        sigma,\n",
    "        der1_test=True\n",
    "    ) - loss.evaluate(\n",
    "        (h, ), \n",
    "        t, \n",
    "        sigma,\n",
    "        der1_test=True\n",
    "    )) / delta)"
   ]
  },
  {
   "cell_type": "code",
   "execution_count": 26,
   "metadata": {},
   "outputs": [
    {
     "data": {
      "text/plain": [
       "array([-0.68620013, -0.81077798,  0.2993728 , -0.72182604,  2.44357478,\n",
       "       -0.31033801,  0.07826807, -0.29005566])"
      ]
     },
     "execution_count": 26,
     "metadata": {},
     "output_type": "execute_result"
    }
   ],
   "source": [
    "np.array([get_numeric_derivative(test_h, test_t, test_sigma, i) for i in range(test_h.shape[0])])"
   ]
  },
  {
   "cell_type": "code",
   "execution_count": 27,
   "metadata": {},
   "outputs": [
    {
     "data": {
      "text/plain": [
       "array([[ 0.68633213, -0.2639374 ],\n",
       "       [ 0.81085468, -0.15336937],\n",
       "       [-0.29894182, -0.8618662 ],\n",
       "       [ 0.72195188, -0.25160388],\n",
       "       [-2.44295454, -1.24041866],\n",
       "       [ 0.31062828, -0.58041316],\n",
       "       [-0.07822951, -0.0770924 ],\n",
       "       [ 0.2903589 , -0.60634898]])"
      ]
     },
     "execution_count": 27,
     "metadata": {},
     "output_type": "execute_result"
    }
   ],
   "source": [
    "loss.calc_ders_range(\n",
    "    test_h, \n",
    "    test_t, \n",
    "    test_sigma,\n",
    "#     der1_test=True\n",
    ")"
   ]
  },
  {
   "cell_type": "markdown",
   "metadata": {},
   "source": [
    "# Model"
   ]
  },
  {
   "cell_type": "code",
   "execution_count": 28,
   "metadata": {},
   "outputs": [],
   "source": [
    "model = CatBoostRegressor(\n",
    "    loss_function=loss, \n",
    "    eval_metric=loss, \n",
    "    iterations=1000, \n",
    "    learning_rate=0.01\n",
    ")"
   ]
  },
  {
   "cell_type": "code",
   "execution_count": 29,
   "metadata": {},
   "outputs": [],
   "source": [
    "N = 10000"
   ]
  },
  {
   "cell_type": "code",
   "execution_count": 30,
   "metadata": {},
   "outputs": [],
   "source": [
    "rossi2_df = rossi_df[rossi_df['week'] < 52].iloc[0:N].reset_index(drop=True)"
   ]
  },
  {
   "cell_type": "code",
   "execution_count": 31,
   "metadata": {},
   "outputs": [],
   "source": [
    "X = rossi2_df.drop(columns=['week'])"
   ]
  },
  {
   "cell_type": "code",
   "execution_count": 32,
   "metadata": {},
   "outputs": [],
   "source": [
    "t = rossi2_df['week']"
   ]
  },
  {
   "cell_type": "code",
   "execution_count": 33,
   "metadata": {},
   "outputs": [],
   "source": [
    "sigma = rossi2_df['arrest']"
   ]
  },
  {
   "cell_type": "code",
   "execution_count": 34,
   "metadata": {},
   "outputs": [],
   "source": [
    "import numba"
   ]
  },
  {
   "cell_type": "code",
   "execution_count": 35,
   "metadata": {},
   "outputs": [],
   "source": [
    "import matplotlib.pyplot as plt"
   ]
  },
  {
   "cell_type": "code",
   "execution_count": 36,
   "metadata": {
    "scrolled": false
   },
   "outputs": [
    {
     "name": "stderr",
     "output_type": "stream",
     "text": [
      "/home/noomkcalb/anaconda3/lib/python3.7/site-packages/catboost/core.py:1913: UserWarning: Can't optimze method \"calc_ders_range\" because self argument is used\n",
      "  _check_train_params(params)\n"
     ]
    },
    {
     "name": "stdout",
     "output_type": "stream",
     "text": [
      "0:\tlearn: 410.0969243\ttotal: 55ms\tremaining: 54.9s\n",
      "1:\tlearn: 409.9896456\ttotal: 64.7ms\tremaining: 32.3s\n",
      "2:\tlearn: 409.8872192\ttotal: 72.7ms\tremaining: 24.2s\n",
      "3:\tlearn: 409.7391290\ttotal: 78.8ms\tremaining: 19.6s\n",
      "4:\tlearn: 409.5834469\ttotal: 83.3ms\tremaining: 16.6s\n",
      "5:\tlearn: 409.5070608\ttotal: 87ms\tremaining: 14.4s\n",
      "6:\tlearn: 409.3994388\ttotal: 90.3ms\tremaining: 12.8s\n",
      "7:\tlearn: 409.2246950\ttotal: 93.5ms\tremaining: 11.6s\n",
      "8:\tlearn: 409.0941427\ttotal: 96.2ms\tremaining: 10.6s\n",
      "9:\tlearn: 408.9443217\ttotal: 98.9ms\tremaining: 9.79s\n",
      "10:\tlearn: 408.7768803\ttotal: 102ms\tremaining: 9.15s\n",
      "11:\tlearn: 408.5832585\ttotal: 104ms\tremaining: 8.6s\n",
      "12:\tlearn: 408.4778834\ttotal: 107ms\tremaining: 8.13s\n",
      "13:\tlearn: 408.3262011\ttotal: 110ms\tremaining: 7.73s\n",
      "14:\tlearn: 408.1875565\ttotal: 112ms\tremaining: 7.39s\n",
      "15:\tlearn: 408.0121014\ttotal: 115ms\tremaining: 7.08s\n",
      "16:\tlearn: 407.8499854\ttotal: 118ms\tremaining: 6.85s\n",
      "17:\tlearn: 407.6858679\ttotal: 121ms\tremaining: 6.61s\n",
      "18:\tlearn: 407.5592556\ttotal: 124ms\tremaining: 6.39s\n",
      "19:\tlearn: 407.4368355\ttotal: 126ms\tremaining: 6.2s\n",
      "20:\tlearn: 407.2940096\ttotal: 129ms\tremaining: 6.02s\n",
      "21:\tlearn: 407.1347697\ttotal: 132ms\tremaining: 5.88s\n",
      "22:\tlearn: 407.0132208\ttotal: 135ms\tremaining: 5.74s\n",
      "23:\tlearn: 406.9035114\ttotal: 138ms\tremaining: 5.62s\n",
      "24:\tlearn: 406.7843349\ttotal: 141ms\tremaining: 5.5s\n",
      "25:\tlearn: 406.6788312\ttotal: 144ms\tremaining: 5.38s\n",
      "26:\tlearn: 406.5281752\ttotal: 147ms\tremaining: 5.28s\n",
      "27:\tlearn: 406.3338961\ttotal: 149ms\tremaining: 5.18s\n",
      "28:\tlearn: 406.1690674\ttotal: 152ms\tremaining: 5.09s\n",
      "29:\tlearn: 406.0230325\ttotal: 155ms\tremaining: 5.01s\n",
      "30:\tlearn: 405.9062953\ttotal: 158ms\tremaining: 4.93s\n",
      "31:\tlearn: 405.7977917\ttotal: 161ms\tremaining: 4.88s\n",
      "32:\tlearn: 405.6719105\ttotal: 164ms\tremaining: 4.81s\n",
      "33:\tlearn: 405.5981717\ttotal: 167ms\tremaining: 4.75s\n",
      "34:\tlearn: 405.5167706\ttotal: 172ms\tremaining: 4.73s\n",
      "35:\tlearn: 405.3857986\ttotal: 175ms\tremaining: 4.69s\n",
      "36:\tlearn: 405.2483382\ttotal: 178ms\tremaining: 4.64s\n",
      "37:\tlearn: 405.1126739\ttotal: 181ms\tremaining: 4.59s\n",
      "38:\tlearn: 405.0127227\ttotal: 184ms\tremaining: 4.54s\n",
      "39:\tlearn: 404.9277449\ttotal: 187ms\tremaining: 4.49s\n",
      "40:\tlearn: 404.7894800\ttotal: 190ms\tremaining: 4.44s\n",
      "41:\tlearn: 404.6449998\ttotal: 193ms\tremaining: 4.39s\n",
      "42:\tlearn: 404.4871658\ttotal: 196ms\tremaining: 4.35s\n",
      "43:\tlearn: 404.4567973\ttotal: 198ms\tremaining: 4.31s\n",
      "44:\tlearn: 404.3125931\ttotal: 201ms\tremaining: 4.27s\n",
      "45:\tlearn: 404.1768745\ttotal: 204ms\tremaining: 4.23s\n",
      "46:\tlearn: 404.0225831\ttotal: 207ms\tremaining: 4.2s\n",
      "47:\tlearn: 403.8968388\ttotal: 210ms\tremaining: 4.16s\n",
      "48:\tlearn: 403.7808848\ttotal: 213ms\tremaining: 4.13s\n",
      "49:\tlearn: 403.6359732\ttotal: 216ms\tremaining: 4.1s\n",
      "50:\tlearn: 403.5182682\ttotal: 219ms\tremaining: 4.07s\n",
      "51:\tlearn: 403.4387876\ttotal: 221ms\tremaining: 4.04s\n",
      "52:\tlearn: 403.3762378\ttotal: 224ms\tremaining: 4s\n",
      "53:\tlearn: 403.2617926\ttotal: 227ms\tremaining: 3.98s\n",
      "54:\tlearn: 403.2410352\ttotal: 230ms\tremaining: 3.94s\n",
      "55:\tlearn: 403.1059488\ttotal: 233ms\tremaining: 3.92s\n",
      "56:\tlearn: 402.9926048\ttotal: 236ms\tremaining: 3.9s\n",
      "57:\tlearn: 402.8971250\ttotal: 239ms\tremaining: 3.88s\n",
      "58:\tlearn: 402.8422826\ttotal: 242ms\tremaining: 3.85s\n",
      "59:\tlearn: 402.7270090\ttotal: 245ms\tremaining: 3.83s\n",
      "60:\tlearn: 402.6635805\ttotal: 247ms\tremaining: 3.81s\n",
      "61:\tlearn: 402.6150535\ttotal: 251ms\tremaining: 3.8s\n",
      "62:\tlearn: 402.4617151\ttotal: 254ms\tremaining: 3.78s\n",
      "63:\tlearn: 402.3615377\ttotal: 257ms\tremaining: 3.76s\n",
      "64:\tlearn: 402.2580079\ttotal: 260ms\tremaining: 3.75s\n",
      "65:\tlearn: 402.1599511\ttotal: 264ms\tremaining: 3.73s\n",
      "66:\tlearn: 402.0253743\ttotal: 267ms\tremaining: 3.71s\n",
      "67:\tlearn: 401.9044475\ttotal: 270ms\tremaining: 3.7s\n",
      "68:\tlearn: 401.8276444\ttotal: 273ms\tremaining: 3.68s\n",
      "69:\tlearn: 401.7257112\ttotal: 276ms\tremaining: 3.66s\n",
      "70:\tlearn: 401.6004507\ttotal: 279ms\tremaining: 3.65s\n",
      "71:\tlearn: 401.5429948\ttotal: 282ms\tremaining: 3.63s\n",
      "72:\tlearn: 401.4143194\ttotal: 285ms\tremaining: 3.61s\n",
      "73:\tlearn: 401.2532410\ttotal: 287ms\tremaining: 3.6s\n",
      "74:\tlearn: 401.1663800\ttotal: 291ms\tremaining: 3.58s\n",
      "75:\tlearn: 401.0714411\ttotal: 293ms\tremaining: 3.57s\n",
      "76:\tlearn: 401.0313537\ttotal: 296ms\tremaining: 3.55s\n",
      "77:\tlearn: 400.8720701\ttotal: 299ms\tremaining: 3.53s\n",
      "78:\tlearn: 400.7755332\ttotal: 302ms\tremaining: 3.52s\n",
      "79:\tlearn: 400.6596725\ttotal: 304ms\tremaining: 3.5s\n",
      "80:\tlearn: 400.5962975\ttotal: 307ms\tremaining: 3.48s\n",
      "81:\tlearn: 400.5026583\ttotal: 310ms\tremaining: 3.47s\n",
      "82:\tlearn: 400.3973121\ttotal: 313ms\tremaining: 3.46s\n",
      "83:\tlearn: 400.2974693\ttotal: 316ms\tremaining: 3.44s\n",
      "84:\tlearn: 400.1948882\ttotal: 318ms\tremaining: 3.43s\n",
      "85:\tlearn: 400.1262114\ttotal: 321ms\tremaining: 3.41s\n",
      "86:\tlearn: 400.0857258\ttotal: 324ms\tremaining: 3.4s\n",
      "87:\tlearn: 399.9998183\ttotal: 327ms\tremaining: 3.39s\n",
      "88:\tlearn: 399.8856265\ttotal: 330ms\tremaining: 3.38s\n",
      "89:\tlearn: 399.8052299\ttotal: 333ms\tremaining: 3.37s\n",
      "90:\tlearn: 399.7436865\ttotal: 336ms\tremaining: 3.35s\n",
      "91:\tlearn: 399.6635593\ttotal: 338ms\tremaining: 3.34s\n",
      "92:\tlearn: 399.5518801\ttotal: 341ms\tremaining: 3.33s\n",
      "93:\tlearn: 399.4727404\ttotal: 344ms\tremaining: 3.32s\n",
      "94:\tlearn: 399.3593095\ttotal: 347ms\tremaining: 3.31s\n",
      "95:\tlearn: 399.3421217\ttotal: 350ms\tremaining: 3.29s\n",
      "96:\tlearn: 399.2641833\ttotal: 352ms\tremaining: 3.28s\n",
      "97:\tlearn: 399.1343605\ttotal: 355ms\tremaining: 3.27s\n",
      "98:\tlearn: 399.0098796\ttotal: 358ms\tremaining: 3.26s\n",
      "99:\tlearn: 398.9302659\ttotal: 361ms\tremaining: 3.25s\n",
      "100:\tlearn: 398.8168056\ttotal: 364ms\tremaining: 3.24s\n",
      "101:\tlearn: 398.7180510\ttotal: 367ms\tremaining: 3.23s\n",
      "102:\tlearn: 398.6258869\ttotal: 369ms\tremaining: 3.22s\n",
      "103:\tlearn: 398.5402764\ttotal: 372ms\tremaining: 3.21s\n",
      "104:\tlearn: 398.4348722\ttotal: 375ms\tremaining: 3.2s\n",
      "105:\tlearn: 398.3685805\ttotal: 378ms\tremaining: 3.19s\n",
      "106:\tlearn: 398.3130174\ttotal: 380ms\tremaining: 3.17s\n",
      "107:\tlearn: 398.2593035\ttotal: 383ms\tremaining: 3.16s\n",
      "108:\tlearn: 398.1797344\ttotal: 386ms\tremaining: 3.16s\n",
      "109:\tlearn: 398.1570640\ttotal: 389ms\tremaining: 3.15s\n",
      "110:\tlearn: 398.1111445\ttotal: 392ms\tremaining: 3.14s\n",
      "111:\tlearn: 398.0179466\ttotal: 394ms\tremaining: 3.13s\n",
      "112:\tlearn: 397.9406989\ttotal: 397ms\tremaining: 3.12s\n",
      "113:\tlearn: 397.8749200\ttotal: 400ms\tremaining: 3.11s\n",
      "114:\tlearn: 397.7983872\ttotal: 403ms\tremaining: 3.1s\n",
      "115:\tlearn: 397.6911072\ttotal: 406ms\tremaining: 3.09s\n",
      "116:\tlearn: 397.6166490\ttotal: 409ms\tremaining: 3.08s\n",
      "117:\tlearn: 397.5281373\ttotal: 411ms\tremaining: 3.07s\n",
      "118:\tlearn: 397.4580461\ttotal: 414ms\tremaining: 3.06s\n",
      "119:\tlearn: 397.4002534\ttotal: 417ms\tremaining: 3.06s\n",
      "120:\tlearn: 397.2853127\ttotal: 420ms\tremaining: 3.05s\n",
      "121:\tlearn: 397.2559249\ttotal: 423ms\tremaining: 3.04s\n",
      "122:\tlearn: 397.2121090\ttotal: 426ms\tremaining: 3.04s\n",
      "123:\tlearn: 397.1491648\ttotal: 429ms\tremaining: 3.03s\n",
      "124:\tlearn: 397.0511173\ttotal: 432ms\tremaining: 3.02s\n",
      "125:\tlearn: 396.9734587\ttotal: 434ms\tremaining: 3.01s\n",
      "126:\tlearn: 396.8860613\ttotal: 437ms\tremaining: 3s\n",
      "127:\tlearn: 396.8337408\ttotal: 440ms\tremaining: 3s\n",
      "128:\tlearn: 396.7623350\ttotal: 443ms\tremaining: 2.99s\n",
      "129:\tlearn: 396.6679959\ttotal: 446ms\tremaining: 2.99s\n",
      "130:\tlearn: 396.5766274\ttotal: 450ms\tremaining: 2.98s\n",
      "131:\tlearn: 396.5323084\ttotal: 453ms\tremaining: 2.98s\n",
      "132:\tlearn: 396.4668645\ttotal: 456ms\tremaining: 2.97s\n",
      "133:\tlearn: 396.3989509\ttotal: 459ms\tremaining: 2.97s\n",
      "134:\tlearn: 396.3116467\ttotal: 462ms\tremaining: 2.96s\n",
      "135:\tlearn: 396.2371407\ttotal: 465ms\tremaining: 2.96s\n",
      "136:\tlearn: 396.1579512\ttotal: 468ms\tremaining: 2.95s\n",
      "137:\tlearn: 396.0929487\ttotal: 471ms\tremaining: 2.94s\n",
      "138:\tlearn: 396.0291852\ttotal: 474ms\tremaining: 2.93s\n",
      "139:\tlearn: 395.9540626\ttotal: 477ms\tremaining: 2.93s\n",
      "140:\tlearn: 395.8513770\ttotal: 479ms\tremaining: 2.92s\n",
      "141:\tlearn: 395.8089885\ttotal: 482ms\tremaining: 2.91s\n",
      "142:\tlearn: 395.7792067\ttotal: 485ms\tremaining: 2.91s\n",
      "143:\tlearn: 395.7351140\ttotal: 488ms\tremaining: 2.9s\n",
      "144:\tlearn: 395.6682608\ttotal: 490ms\tremaining: 2.89s\n",
      "145:\tlearn: 395.5514650\ttotal: 493ms\tremaining: 2.88s\n",
      "146:\tlearn: 395.4476310\ttotal: 496ms\tremaining: 2.88s\n",
      "147:\tlearn: 395.3731605\ttotal: 499ms\tremaining: 2.87s\n",
      "148:\tlearn: 395.2925774\ttotal: 506ms\tremaining: 2.89s\n",
      "149:\tlearn: 395.2440626\ttotal: 509ms\tremaining: 2.88s\n",
      "150:\tlearn: 395.0966843\ttotal: 512ms\tremaining: 2.88s\n",
      "151:\tlearn: 395.0141486\ttotal: 515ms\tremaining: 2.87s\n",
      "152:\tlearn: 394.9283027\ttotal: 517ms\tremaining: 2.86s\n",
      "153:\tlearn: 394.8771069\ttotal: 521ms\tremaining: 2.86s\n",
      "154:\tlearn: 394.8429332\ttotal: 523ms\tremaining: 2.85s\n",
      "155:\tlearn: 394.8048252\ttotal: 526ms\tremaining: 2.85s\n",
      "156:\tlearn: 394.7334397\ttotal: 529ms\tremaining: 2.84s\n",
      "157:\tlearn: 394.6894581\ttotal: 532ms\tremaining: 2.83s\n",
      "158:\tlearn: 394.6232808\ttotal: 535ms\tremaining: 2.83s\n",
      "159:\tlearn: 394.5357635\ttotal: 538ms\tremaining: 2.82s\n",
      "160:\tlearn: 394.4589120\ttotal: 540ms\tremaining: 2.82s\n",
      "161:\tlearn: 394.4207744\ttotal: 543ms\tremaining: 2.81s\n",
      "162:\tlearn: 394.3575450\ttotal: 546ms\tremaining: 2.8s\n",
      "163:\tlearn: 394.2413443\ttotal: 549ms\tremaining: 2.8s\n",
      "164:\tlearn: 394.1660941\ttotal: 551ms\tremaining: 2.79s\n",
      "165:\tlearn: 394.0951909\ttotal: 554ms\tremaining: 2.78s\n",
      "166:\tlearn: 394.0312748\ttotal: 558ms\tremaining: 2.78s\n",
      "167:\tlearn: 393.9781656\ttotal: 560ms\tremaining: 2.77s\n",
      "168:\tlearn: 393.9001900\ttotal: 563ms\tremaining: 2.77s\n",
      "169:\tlearn: 393.8652133\ttotal: 566ms\tremaining: 2.76s\n",
      "170:\tlearn: 393.7890468\ttotal: 569ms\tremaining: 2.76s\n",
      "171:\tlearn: 393.7367960\ttotal: 571ms\tremaining: 2.75s\n",
      "172:\tlearn: 393.6227228\ttotal: 574ms\tremaining: 2.74s\n",
      "173:\tlearn: 393.5003654\ttotal: 577ms\tremaining: 2.74s\n",
      "174:\tlearn: 393.4177445\ttotal: 580ms\tremaining: 2.73s\n",
      "175:\tlearn: 393.3871542\ttotal: 583ms\tremaining: 2.73s\n",
      "176:\tlearn: 393.3143653\ttotal: 586ms\tremaining: 2.72s\n",
      "177:\tlearn: 393.2769576\ttotal: 588ms\tremaining: 2.72s\n",
      "178:\tlearn: 393.2259741\ttotal: 591ms\tremaining: 2.71s\n",
      "179:\tlearn: 393.1938154\ttotal: 594ms\tremaining: 2.7s\n",
      "180:\tlearn: 393.1338758\ttotal: 597ms\tremaining: 2.7s\n",
      "181:\tlearn: 393.1275021\ttotal: 599ms\tremaining: 2.69s\n",
      "182:\tlearn: 393.0277207\ttotal: 602ms\tremaining: 2.69s\n",
      "183:\tlearn: 392.9671423\ttotal: 605ms\tremaining: 2.68s\n",
      "184:\tlearn: 392.9028041\ttotal: 608ms\tremaining: 2.68s\n",
      "185:\tlearn: 392.7714750\ttotal: 611ms\tremaining: 2.67s\n",
      "186:\tlearn: 392.7153103\ttotal: 614ms\tremaining: 2.67s\n",
      "187:\tlearn: 392.6565667\ttotal: 616ms\tremaining: 2.66s\n",
      "188:\tlearn: 392.5936618\ttotal: 619ms\tremaining: 2.66s\n",
      "189:\tlearn: 392.5386609\ttotal: 622ms\tremaining: 2.65s\n",
      "190:\tlearn: 392.4531034\ttotal: 625ms\tremaining: 2.65s\n",
      "191:\tlearn: 392.4022455\ttotal: 628ms\tremaining: 2.64s\n",
      "192:\tlearn: 392.3643347\ttotal: 630ms\tremaining: 2.63s\n",
      "193:\tlearn: 392.2713704\ttotal: 633ms\tremaining: 2.63s\n",
      "194:\tlearn: 392.2045386\ttotal: 636ms\tremaining: 2.63s\n",
      "195:\tlearn: 392.1400741\ttotal: 639ms\tremaining: 2.62s\n",
      "196:\tlearn: 392.0669463\ttotal: 641ms\tremaining: 2.61s\n"
     ]
    },
    {
     "name": "stdout",
     "output_type": "stream",
     "text": [
      "197:\tlearn: 392.0167266\ttotal: 645ms\tremaining: 2.61s\n",
      "198:\tlearn: 391.9520295\ttotal: 649ms\tremaining: 2.61s\n",
      "199:\tlearn: 391.8693421\ttotal: 652ms\tremaining: 2.61s\n",
      "200:\tlearn: 391.7525841\ttotal: 655ms\tremaining: 2.6s\n",
      "201:\tlearn: 391.6985810\ttotal: 658ms\tremaining: 2.6s\n",
      "202:\tlearn: 391.6500593\ttotal: 661ms\tremaining: 2.59s\n",
      "203:\tlearn: 391.6044926\ttotal: 664ms\tremaining: 2.59s\n",
      "204:\tlearn: 391.5446381\ttotal: 667ms\tremaining: 2.58s\n",
      "205:\tlearn: 391.4369791\ttotal: 669ms\tremaining: 2.58s\n",
      "206:\tlearn: 391.3819530\ttotal: 672ms\tremaining: 2.58s\n",
      "207:\tlearn: 391.2898315\ttotal: 675ms\tremaining: 2.57s\n",
      "208:\tlearn: 391.2502568\ttotal: 679ms\tremaining: 2.57s\n",
      "209:\tlearn: 391.1896966\ttotal: 682ms\tremaining: 2.56s\n",
      "210:\tlearn: 391.1469252\ttotal: 685ms\tremaining: 2.56s\n",
      "211:\tlearn: 391.0841030\ttotal: 688ms\tremaining: 2.56s\n",
      "212:\tlearn: 391.0453054\ttotal: 691ms\tremaining: 2.55s\n",
      "213:\tlearn: 390.9952632\ttotal: 694ms\tremaining: 2.55s\n",
      "214:\tlearn: 390.9323443\ttotal: 697ms\tremaining: 2.54s\n",
      "215:\tlearn: 390.8115523\ttotal: 701ms\tremaining: 2.54s\n",
      "216:\tlearn: 390.7701491\ttotal: 703ms\tremaining: 2.54s\n",
      "217:\tlearn: 390.7332195\ttotal: 706ms\tremaining: 2.53s\n",
      "218:\tlearn: 390.6962413\ttotal: 709ms\tremaining: 2.53s\n",
      "219:\tlearn: 390.6503439\ttotal: 712ms\tremaining: 2.53s\n",
      "220:\tlearn: 390.6075249\ttotal: 716ms\tremaining: 2.52s\n",
      "221:\tlearn: 390.5071051\ttotal: 719ms\tremaining: 2.52s\n",
      "222:\tlearn: 390.4163414\ttotal: 722ms\tremaining: 2.52s\n",
      "223:\tlearn: 390.3705243\ttotal: 725ms\tremaining: 2.51s\n",
      "224:\tlearn: 390.3241033\ttotal: 728ms\tremaining: 2.51s\n",
      "225:\tlearn: 390.2568200\ttotal: 731ms\tremaining: 2.5s\n",
      "226:\tlearn: 390.2068322\ttotal: 734ms\tremaining: 2.5s\n",
      "227:\tlearn: 390.1583490\ttotal: 737ms\tremaining: 2.5s\n",
      "228:\tlearn: 390.0781415\ttotal: 740ms\tremaining: 2.49s\n",
      "229:\tlearn: 390.0142493\ttotal: 743ms\tremaining: 2.49s\n",
      "230:\tlearn: 389.8881640\ttotal: 746ms\tremaining: 2.48s\n",
      "231:\tlearn: 389.8512053\ttotal: 748ms\tremaining: 2.48s\n",
      "232:\tlearn: 389.7917206\ttotal: 751ms\tremaining: 2.47s\n",
      "233:\tlearn: 389.7391569\ttotal: 754ms\tremaining: 2.47s\n",
      "234:\tlearn: 389.6843136\ttotal: 757ms\tremaining: 2.46s\n",
      "235:\tlearn: 389.6325590\ttotal: 760ms\tremaining: 2.46s\n",
      "236:\tlearn: 389.5599241\ttotal: 763ms\tremaining: 2.46s\n",
      "237:\tlearn: 389.5305607\ttotal: 765ms\tremaining: 2.45s\n",
      "238:\tlearn: 389.4379760\ttotal: 768ms\tremaining: 2.44s\n",
      "239:\tlearn: 389.3914174\ttotal: 771ms\tremaining: 2.44s\n",
      "240:\tlearn: 389.3423589\ttotal: 773ms\tremaining: 2.44s\n",
      "241:\tlearn: 389.2851568\ttotal: 776ms\tremaining: 2.43s\n",
      "242:\tlearn: 389.2220761\ttotal: 779ms\tremaining: 2.43s\n",
      "243:\tlearn: 389.1664419\ttotal: 782ms\tremaining: 2.42s\n",
      "244:\tlearn: 389.0923408\ttotal: 784ms\tremaining: 2.42s\n",
      "245:\tlearn: 389.0444326\ttotal: 787ms\tremaining: 2.41s\n",
      "246:\tlearn: 389.0011715\ttotal: 790ms\tremaining: 2.41s\n",
      "247:\tlearn: 388.9412917\ttotal: 793ms\tremaining: 2.4s\n",
      "248:\tlearn: 388.9037490\ttotal: 796ms\tremaining: 2.4s\n",
      "249:\tlearn: 388.8642540\ttotal: 799ms\tremaining: 2.4s\n",
      "250:\tlearn: 388.8163990\ttotal: 802ms\tremaining: 2.39s\n",
      "251:\tlearn: 388.7554366\ttotal: 804ms\tremaining: 2.39s\n",
      "252:\tlearn: 388.7065375\ttotal: 807ms\tremaining: 2.38s\n",
      "253:\tlearn: 388.6329986\ttotal: 810ms\tremaining: 2.38s\n",
      "254:\tlearn: 388.6111478\ttotal: 812ms\tremaining: 2.37s\n",
      "255:\tlearn: 388.5553225\ttotal: 815ms\tremaining: 2.37s\n",
      "256:\tlearn: 388.4527760\ttotal: 818ms\tremaining: 2.37s\n",
      "257:\tlearn: 388.4445236\ttotal: 821ms\tremaining: 2.36s\n",
      "258:\tlearn: 388.4000655\ttotal: 824ms\tremaining: 2.36s\n",
      "259:\tlearn: 388.3284671\ttotal: 827ms\tremaining: 2.35s\n",
      "260:\tlearn: 388.2257483\ttotal: 829ms\tremaining: 2.35s\n",
      "261:\tlearn: 388.1901756\ttotal: 832ms\tremaining: 2.34s\n",
      "262:\tlearn: 388.1475767\ttotal: 835ms\tremaining: 2.34s\n",
      "263:\tlearn: 388.1065662\ttotal: 838ms\tremaining: 2.34s\n",
      "264:\tlearn: 388.0284317\ttotal: 841ms\tremaining: 2.33s\n",
      "265:\tlearn: 387.9867425\ttotal: 847ms\tremaining: 2.34s\n",
      "266:\tlearn: 387.8732144\ttotal: 850ms\tremaining: 2.33s\n",
      "267:\tlearn: 387.7839063\ttotal: 853ms\tremaining: 2.33s\n",
      "268:\tlearn: 387.7193346\ttotal: 857ms\tremaining: 2.33s\n",
      "269:\tlearn: 387.6869278\ttotal: 860ms\tremaining: 2.33s\n",
      "270:\tlearn: 387.6379699\ttotal: 863ms\tremaining: 2.32s\n",
      "271:\tlearn: 387.5935511\ttotal: 866ms\tremaining: 2.32s\n",
      "272:\tlearn: 387.5460219\ttotal: 869ms\tremaining: 2.31s\n",
      "273:\tlearn: 387.5107769\ttotal: 872ms\tremaining: 2.31s\n",
      "274:\tlearn: 387.4374471\ttotal: 875ms\tremaining: 2.31s\n",
      "275:\tlearn: 387.3836945\ttotal: 878ms\tremaining: 2.3s\n",
      "276:\tlearn: 387.3459616\ttotal: 881ms\tremaining: 2.3s\n",
      "277:\tlearn: 387.2809551\ttotal: 884ms\tremaining: 2.29s\n",
      "278:\tlearn: 387.2546407\ttotal: 887ms\tremaining: 2.29s\n",
      "279:\tlearn: 387.1986498\ttotal: 890ms\tremaining: 2.29s\n",
      "280:\tlearn: 387.1402861\ttotal: 893ms\tremaining: 2.29s\n",
      "281:\tlearn: 387.0681111\ttotal: 896ms\tremaining: 2.28s\n",
      "282:\tlearn: 387.0452512\ttotal: 899ms\tremaining: 2.28s\n",
      "283:\tlearn: 386.9740877\ttotal: 902ms\tremaining: 2.27s\n",
      "284:\tlearn: 386.9429057\ttotal: 905ms\tremaining: 2.27s\n",
      "285:\tlearn: 386.8691669\ttotal: 908ms\tremaining: 2.27s\n",
      "286:\tlearn: 386.7541792\ttotal: 911ms\tremaining: 2.26s\n",
      "287:\tlearn: 386.6558080\ttotal: 914ms\tremaining: 2.26s\n",
      "288:\tlearn: 386.6014580\ttotal: 917ms\tremaining: 2.25s\n",
      "289:\tlearn: 386.5524389\ttotal: 920ms\tremaining: 2.25s\n",
      "290:\tlearn: 386.5081694\ttotal: 923ms\tremaining: 2.25s\n",
      "291:\tlearn: 386.4623450\ttotal: 926ms\tremaining: 2.25s\n",
      "292:\tlearn: 386.4059133\ttotal: 929ms\tremaining: 2.24s\n",
      "293:\tlearn: 386.3602673\ttotal: 932ms\tremaining: 2.24s\n",
      "294:\tlearn: 386.3186535\ttotal: 935ms\tremaining: 2.23s\n",
      "295:\tlearn: 386.2594494\ttotal: 938ms\tremaining: 2.23s\n",
      "296:\tlearn: 386.2193623\ttotal: 941ms\tremaining: 2.23s\n",
      "297:\tlearn: 386.1792492\ttotal: 944ms\tremaining: 2.22s\n",
      "298:\tlearn: 386.0772779\ttotal: 947ms\tremaining: 2.22s\n",
      "299:\tlearn: 386.0144587\ttotal: 950ms\tremaining: 2.22s\n",
      "300:\tlearn: 385.9791055\ttotal: 953ms\tremaining: 2.21s\n",
      "301:\tlearn: 385.9451938\ttotal: 956ms\tremaining: 2.21s\n",
      "302:\tlearn: 385.8795063\ttotal: 959ms\tremaining: 2.21s\n",
      "303:\tlearn: 385.8400646\ttotal: 962ms\tremaining: 2.2s\n",
      "304:\tlearn: 385.7919578\ttotal: 965ms\tremaining: 2.2s\n",
      "305:\tlearn: 385.7363036\ttotal: 968ms\tremaining: 2.19s\n",
      "306:\tlearn: 385.6645518\ttotal: 971ms\tremaining: 2.19s\n",
      "307:\tlearn: 385.6185911\ttotal: 974ms\tremaining: 2.19s\n",
      "308:\tlearn: 385.5769178\ttotal: 977ms\tremaining: 2.18s\n",
      "309:\tlearn: 385.5350216\ttotal: 980ms\tremaining: 2.18s\n",
      "310:\tlearn: 385.5072479\ttotal: 983ms\tremaining: 2.18s\n",
      "311:\tlearn: 385.4447157\ttotal: 987ms\tremaining: 2.18s\n",
      "312:\tlearn: 385.3907561\ttotal: 990ms\tremaining: 2.17s\n",
      "313:\tlearn: 385.3476053\ttotal: 993ms\tremaining: 2.17s\n",
      "314:\tlearn: 385.2524538\ttotal: 996ms\tremaining: 2.17s\n",
      "315:\tlearn: 385.2326786\ttotal: 999ms\tremaining: 2.16s\n",
      "316:\tlearn: 385.1873733\ttotal: 1s\tremaining: 2.16s\n",
      "317:\tlearn: 385.1398168\ttotal: 1s\tremaining: 2.15s\n",
      "318:\tlearn: 385.0993853\ttotal: 1.01s\tremaining: 2.15s\n",
      "319:\tlearn: 385.0601049\ttotal: 1.01s\tremaining: 2.15s\n",
      "320:\tlearn: 385.0114799\ttotal: 1.01s\tremaining: 2.15s\n",
      "321:\tlearn: 384.9799410\ttotal: 1.02s\tremaining: 2.14s\n",
      "322:\tlearn: 384.9289209\ttotal: 1.02s\tremaining: 2.14s\n",
      "323:\tlearn: 384.8952264\ttotal: 1.02s\tremaining: 2.14s\n",
      "324:\tlearn: 384.8676938\ttotal: 1.03s\tremaining: 2.13s\n",
      "325:\tlearn: 384.8578281\ttotal: 1.03s\tremaining: 2.13s\n",
      "326:\tlearn: 384.8099775\ttotal: 1.03s\tremaining: 2.13s\n",
      "327:\tlearn: 384.7757811\ttotal: 1.04s\tremaining: 2.12s\n",
      "328:\tlearn: 384.7255003\ttotal: 1.04s\tremaining: 2.12s\n",
      "329:\tlearn: 384.6625940\ttotal: 1.04s\tremaining: 2.12s\n",
      "330:\tlearn: 384.6177516\ttotal: 1.04s\tremaining: 2.11s\n",
      "331:\tlearn: 384.5708827\ttotal: 1.05s\tremaining: 2.11s\n",
      "332:\tlearn: 384.5267422\ttotal: 1.05s\tremaining: 2.11s\n",
      "333:\tlearn: 384.4700502\ttotal: 1.05s\tremaining: 2.1s\n",
      "334:\tlearn: 384.4376772\ttotal: 1.06s\tremaining: 2.1s\n",
      "335:\tlearn: 384.4200915\ttotal: 1.06s\tremaining: 2.1s\n",
      "336:\tlearn: 384.3718001\ttotal: 1.06s\tremaining: 2.09s\n",
      "337:\tlearn: 384.3150621\ttotal: 1.07s\tremaining: 2.09s\n",
      "338:\tlearn: 384.2745924\ttotal: 1.07s\tremaining: 2.09s\n",
      "339:\tlearn: 384.2313582\ttotal: 1.07s\tremaining: 2.08s\n",
      "340:\tlearn: 384.1880693\ttotal: 1.08s\tremaining: 2.08s\n",
      "341:\tlearn: 384.1615444\ttotal: 1.08s\tremaining: 2.08s\n",
      "342:\tlearn: 384.0949907\ttotal: 1.08s\tremaining: 2.08s\n",
      "343:\tlearn: 384.0519111\ttotal: 1.09s\tremaining: 2.08s\n",
      "344:\tlearn: 384.0094336\ttotal: 1.09s\tremaining: 2.07s\n",
      "345:\tlearn: 383.9481177\ttotal: 1.1s\tremaining: 2.07s\n",
      "346:\tlearn: 383.9423163\ttotal: 1.1s\tremaining: 2.07s\n",
      "347:\tlearn: 383.8813864\ttotal: 1.1s\tremaining: 2.07s\n",
      "348:\tlearn: 383.7830690\ttotal: 1.11s\tremaining: 2.06s\n",
      "349:\tlearn: 383.7537686\ttotal: 1.11s\tremaining: 2.06s\n",
      "350:\tlearn: 383.7193782\ttotal: 1.11s\tremaining: 2.06s\n",
      "351:\tlearn: 383.6606714\ttotal: 1.12s\tremaining: 2.05s\n",
      "352:\tlearn: 383.5877797\ttotal: 1.12s\tremaining: 2.05s\n",
      "353:\tlearn: 383.5406367\ttotal: 1.12s\tremaining: 2.05s\n",
      "354:\tlearn: 383.4919196\ttotal: 1.13s\tremaining: 2.04s\n",
      "355:\tlearn: 383.4530570\ttotal: 1.13s\tremaining: 2.04s\n",
      "356:\tlearn: 383.3968562\ttotal: 1.13s\tremaining: 2.04s\n",
      "357:\tlearn: 383.3825663\ttotal: 1.14s\tremaining: 2.04s\n",
      "358:\tlearn: 383.3215664\ttotal: 1.14s\tremaining: 2.03s\n",
      "359:\tlearn: 383.2811223\ttotal: 1.14s\tremaining: 2.03s\n",
      "360:\tlearn: 383.2512959\ttotal: 1.14s\tremaining: 2.02s\n",
      "361:\tlearn: 383.1852683\ttotal: 1.15s\tremaining: 2.02s\n",
      "362:\tlearn: 383.1482333\ttotal: 1.15s\tremaining: 2.02s\n",
      "363:\tlearn: 383.1104419\ttotal: 1.15s\tremaining: 2.02s\n",
      "364:\tlearn: 383.0675712\ttotal: 1.16s\tremaining: 2.01s\n",
      "365:\tlearn: 383.0346256\ttotal: 1.16s\tremaining: 2.01s\n",
      "366:\tlearn: 382.9618185\ttotal: 1.16s\tremaining: 2.01s\n",
      "367:\tlearn: 382.9277437\ttotal: 1.17s\tremaining: 2s\n",
      "368:\tlearn: 382.8822381\ttotal: 1.17s\tremaining: 2s\n",
      "369:\tlearn: 382.8350275\ttotal: 1.17s\tremaining: 2s\n",
      "370:\tlearn: 382.7689703\ttotal: 1.18s\tremaining: 1.99s\n",
      "371:\tlearn: 382.7290010\ttotal: 1.18s\tremaining: 1.99s\n",
      "372:\tlearn: 382.6912181\ttotal: 1.18s\tremaining: 1.99s\n",
      "373:\tlearn: 382.6448288\ttotal: 1.18s\tremaining: 1.98s\n",
      "374:\tlearn: 382.5668241\ttotal: 1.19s\tremaining: 1.98s\n",
      "375:\tlearn: 382.5183098\ttotal: 1.19s\tremaining: 1.98s\n",
      "376:\tlearn: 382.4290336\ttotal: 1.19s\tremaining: 1.97s\n",
      "377:\tlearn: 382.3871986\ttotal: 1.2s\tremaining: 1.97s\n",
      "378:\tlearn: 382.3331201\ttotal: 1.2s\tremaining: 1.97s\n",
      "379:\tlearn: 382.2544518\ttotal: 1.2s\tremaining: 1.96s\n",
      "380:\tlearn: 382.2339953\ttotal: 1.21s\tremaining: 1.96s\n",
      "381:\tlearn: 382.1638772\ttotal: 1.21s\tremaining: 1.96s\n",
      "382:\tlearn: 382.1268778\ttotal: 1.21s\tremaining: 1.95s\n",
      "383:\tlearn: 382.0782754\ttotal: 1.21s\tremaining: 1.95s\n",
      "384:\tlearn: 382.0494351\ttotal: 1.22s\tremaining: 1.94s\n",
      "385:\tlearn: 382.0070156\ttotal: 1.22s\tremaining: 1.94s\n",
      "386:\tlearn: 381.9232359\ttotal: 1.22s\tremaining: 1.94s\n",
      "387:\tlearn: 381.8675293\ttotal: 1.23s\tremaining: 1.93s\n",
      "388:\tlearn: 381.8270388\ttotal: 1.23s\tremaining: 1.93s\n"
     ]
    },
    {
     "name": "stdout",
     "output_type": "stream",
     "text": [
      "389:\tlearn: 381.7535366\ttotal: 1.23s\tremaining: 1.93s\n",
      "390:\tlearn: 381.6840718\ttotal: 1.24s\tremaining: 1.92s\n",
      "391:\tlearn: 381.6291543\ttotal: 1.24s\tremaining: 1.92s\n",
      "392:\tlearn: 381.5399012\ttotal: 1.24s\tremaining: 1.92s\n",
      "393:\tlearn: 381.4860998\ttotal: 1.24s\tremaining: 1.91s\n",
      "394:\tlearn: 381.4378955\ttotal: 1.25s\tremaining: 1.91s\n",
      "395:\tlearn: 381.3722925\ttotal: 1.25s\tremaining: 1.91s\n",
      "396:\tlearn: 381.2795110\ttotal: 1.25s\tremaining: 1.9s\n",
      "397:\tlearn: 381.2226133\ttotal: 1.25s\tremaining: 1.9s\n",
      "398:\tlearn: 381.2011339\ttotal: 1.26s\tremaining: 1.9s\n",
      "399:\tlearn: 381.1599616\ttotal: 1.26s\tremaining: 1.89s\n",
      "400:\tlearn: 381.1123801\ttotal: 1.26s\tremaining: 1.89s\n",
      "401:\tlearn: 381.0734382\ttotal: 1.27s\tremaining: 1.89s\n",
      "402:\tlearn: 380.9884789\ttotal: 1.27s\tremaining: 1.88s\n",
      "403:\tlearn: 380.9554961\ttotal: 1.28s\tremaining: 1.88s\n",
      "404:\tlearn: 380.9176641\ttotal: 1.28s\tremaining: 1.88s\n",
      "405:\tlearn: 380.8774948\ttotal: 1.28s\tremaining: 1.88s\n",
      "406:\tlearn: 380.8231302\ttotal: 1.28s\tremaining: 1.87s\n",
      "407:\tlearn: 380.7831461\ttotal: 1.29s\tremaining: 1.87s\n",
      "408:\tlearn: 380.7479262\ttotal: 1.29s\tremaining: 1.87s\n",
      "409:\tlearn: 380.6947285\ttotal: 1.29s\tremaining: 1.86s\n",
      "410:\tlearn: 380.6336066\ttotal: 1.3s\tremaining: 1.86s\n",
      "411:\tlearn: 380.5813416\ttotal: 1.3s\tremaining: 1.86s\n",
      "412:\tlearn: 380.5622053\ttotal: 1.3s\tremaining: 1.85s\n",
      "413:\tlearn: 380.4662353\ttotal: 1.31s\tremaining: 1.85s\n",
      "414:\tlearn: 380.4154066\ttotal: 1.31s\tremaining: 1.85s\n",
      "415:\tlearn: 380.3920163\ttotal: 1.31s\tremaining: 1.84s\n",
      "416:\tlearn: 380.3517983\ttotal: 1.32s\tremaining: 1.84s\n",
      "417:\tlearn: 380.2972629\ttotal: 1.32s\tremaining: 1.84s\n",
      "418:\tlearn: 380.2688049\ttotal: 1.32s\tremaining: 1.83s\n",
      "419:\tlearn: 380.2298334\ttotal: 1.33s\tremaining: 1.83s\n",
      "420:\tlearn: 380.1551279\ttotal: 1.33s\tremaining: 1.83s\n",
      "421:\tlearn: 380.0938520\ttotal: 1.33s\tremaining: 1.82s\n",
      "422:\tlearn: 379.9930094\ttotal: 1.34s\tremaining: 1.82s\n",
      "423:\tlearn: 379.9476774\ttotal: 1.34s\tremaining: 1.82s\n",
      "424:\tlearn: 379.9207856\ttotal: 1.34s\tremaining: 1.82s\n",
      "425:\tlearn: 379.8735787\ttotal: 1.35s\tremaining: 1.82s\n",
      "426:\tlearn: 379.8394561\ttotal: 1.35s\tremaining: 1.81s\n",
      "427:\tlearn: 379.8336592\ttotal: 1.35s\tremaining: 1.81s\n",
      "428:\tlearn: 379.7943252\ttotal: 1.36s\tremaining: 1.81s\n",
      "429:\tlearn: 379.7334149\ttotal: 1.36s\tremaining: 1.8s\n",
      "430:\tlearn: 379.7041193\ttotal: 1.36s\tremaining: 1.8s\n",
      "431:\tlearn: 379.6537328\ttotal: 1.36s\tremaining: 1.8s\n",
      "432:\tlearn: 379.5971812\ttotal: 1.37s\tremaining: 1.79s\n",
      "433:\tlearn: 379.5067050\ttotal: 1.37s\tremaining: 1.79s\n",
      "434:\tlearn: 379.4626329\ttotal: 1.38s\tremaining: 1.79s\n",
      "435:\tlearn: 379.3997433\ttotal: 1.38s\tremaining: 1.78s\n",
      "436:\tlearn: 379.3521051\ttotal: 1.38s\tremaining: 1.78s\n",
      "437:\tlearn: 379.3314871\ttotal: 1.38s\tremaining: 1.78s\n",
      "438:\tlearn: 379.2583830\ttotal: 1.39s\tremaining: 1.77s\n",
      "439:\tlearn: 379.2407065\ttotal: 1.39s\tremaining: 1.77s\n",
      "440:\tlearn: 379.2081472\ttotal: 1.39s\tremaining: 1.77s\n",
      "441:\tlearn: 379.1799042\ttotal: 1.4s\tremaining: 1.76s\n",
      "442:\tlearn: 379.1208998\ttotal: 1.4s\tremaining: 1.76s\n",
      "443:\tlearn: 379.0960014\ttotal: 1.4s\tremaining: 1.76s\n",
      "444:\tlearn: 379.0572911\ttotal: 1.41s\tremaining: 1.75s\n",
      "445:\tlearn: 378.9999038\ttotal: 1.41s\tremaining: 1.75s\n",
      "446:\tlearn: 378.9628960\ttotal: 1.41s\tremaining: 1.75s\n",
      "447:\tlearn: 378.9211139\ttotal: 1.41s\tremaining: 1.74s\n",
      "448:\tlearn: 378.8262361\ttotal: 1.43s\tremaining: 1.75s\n",
      "449:\tlearn: 378.7645581\ttotal: 1.43s\tremaining: 1.75s\n",
      "450:\tlearn: 378.6862908\ttotal: 1.43s\tremaining: 1.74s\n",
      "451:\tlearn: 378.6648770\ttotal: 1.44s\tremaining: 1.74s\n",
      "452:\tlearn: 378.5908674\ttotal: 1.44s\tremaining: 1.74s\n",
      "453:\tlearn: 378.5871347\ttotal: 1.44s\tremaining: 1.73s\n",
      "454:\tlearn: 378.5369240\ttotal: 1.45s\tremaining: 1.73s\n",
      "455:\tlearn: 378.5079458\ttotal: 1.45s\tremaining: 1.73s\n",
      "456:\tlearn: 378.4929380\ttotal: 1.45s\tremaining: 1.72s\n",
      "457:\tlearn: 378.4280847\ttotal: 1.45s\tremaining: 1.72s\n",
      "458:\tlearn: 378.3862623\ttotal: 1.46s\tremaining: 1.72s\n",
      "459:\tlearn: 378.3263258\ttotal: 1.46s\tremaining: 1.71s\n",
      "460:\tlearn: 378.2710792\ttotal: 1.46s\tremaining: 1.71s\n",
      "461:\tlearn: 378.2305124\ttotal: 1.47s\tremaining: 1.71s\n",
      "462:\tlearn: 378.2036933\ttotal: 1.47s\tremaining: 1.7s\n",
      "463:\tlearn: 378.1570693\ttotal: 1.47s\tremaining: 1.7s\n",
      "464:\tlearn: 378.1093733\ttotal: 1.48s\tremaining: 1.7s\n",
      "465:\tlearn: 378.0734400\ttotal: 1.48s\tremaining: 1.69s\n",
      "466:\tlearn: 378.0400324\ttotal: 1.48s\tremaining: 1.69s\n",
      "467:\tlearn: 377.9964161\ttotal: 1.48s\tremaining: 1.69s\n",
      "468:\tlearn: 377.9514991\ttotal: 1.49s\tremaining: 1.68s\n",
      "469:\tlearn: 377.9112808\ttotal: 1.49s\tremaining: 1.68s\n",
      "470:\tlearn: 377.8878472\ttotal: 1.49s\tremaining: 1.68s\n",
      "471:\tlearn: 377.8447145\ttotal: 1.5s\tremaining: 1.67s\n",
      "472:\tlearn: 377.8415965\ttotal: 1.5s\tremaining: 1.67s\n",
      "473:\tlearn: 377.7837582\ttotal: 1.5s\tremaining: 1.67s\n",
      "474:\tlearn: 377.7157552\ttotal: 1.5s\tremaining: 1.66s\n",
      "475:\tlearn: 377.6240367\ttotal: 1.51s\tremaining: 1.66s\n",
      "476:\tlearn: 377.5699522\ttotal: 1.51s\tremaining: 1.66s\n",
      "477:\tlearn: 377.5302200\ttotal: 1.51s\tremaining: 1.65s\n",
      "478:\tlearn: 377.4903487\ttotal: 1.51s\tremaining: 1.65s\n",
      "479:\tlearn: 377.4316636\ttotal: 1.52s\tremaining: 1.64s\n",
      "480:\tlearn: 377.3883388\ttotal: 1.52s\tremaining: 1.64s\n",
      "481:\tlearn: 377.3464746\ttotal: 1.52s\tremaining: 1.64s\n",
      "482:\tlearn: 377.3108815\ttotal: 1.53s\tremaining: 1.63s\n",
      "483:\tlearn: 377.2706477\ttotal: 1.53s\tremaining: 1.63s\n",
      "484:\tlearn: 377.1798145\ttotal: 1.53s\tremaining: 1.63s\n",
      "485:\tlearn: 377.1210055\ttotal: 1.53s\tremaining: 1.62s\n",
      "486:\tlearn: 377.0846918\ttotal: 1.54s\tremaining: 1.62s\n",
      "487:\tlearn: 377.0607708\ttotal: 1.54s\tremaining: 1.62s\n",
      "488:\tlearn: 377.0128840\ttotal: 1.54s\tremaining: 1.61s\n",
      "489:\tlearn: 376.9860825\ttotal: 1.55s\tremaining: 1.61s\n",
      "490:\tlearn: 376.9394923\ttotal: 1.55s\tremaining: 1.61s\n",
      "491:\tlearn: 376.8925679\ttotal: 1.55s\tremaining: 1.6s\n",
      "492:\tlearn: 376.8626844\ttotal: 1.55s\tremaining: 1.6s\n",
      "493:\tlearn: 376.8210381\ttotal: 1.56s\tremaining: 1.59s\n",
      "494:\tlearn: 376.7648901\ttotal: 1.56s\tremaining: 1.59s\n",
      "495:\tlearn: 376.7224466\ttotal: 1.56s\tremaining: 1.59s\n",
      "496:\tlearn: 376.6989170\ttotal: 1.57s\tremaining: 1.58s\n",
      "497:\tlearn: 376.6611250\ttotal: 1.57s\tremaining: 1.58s\n",
      "498:\tlearn: 376.6225542\ttotal: 1.57s\tremaining: 1.58s\n",
      "499:\tlearn: 376.5612831\ttotal: 1.57s\tremaining: 1.57s\n",
      "500:\tlearn: 376.4975015\ttotal: 1.58s\tremaining: 1.57s\n",
      "501:\tlearn: 376.4543363\ttotal: 1.58s\tremaining: 1.57s\n",
      "502:\tlearn: 376.4134763\ttotal: 1.58s\tremaining: 1.56s\n",
      "503:\tlearn: 376.3506015\ttotal: 1.59s\tremaining: 1.56s\n",
      "504:\tlearn: 376.3154063\ttotal: 1.59s\tremaining: 1.56s\n",
      "505:\tlearn: 376.2872155\ttotal: 1.59s\tremaining: 1.56s\n",
      "506:\tlearn: 376.2622881\ttotal: 1.6s\tremaining: 1.55s\n",
      "507:\tlearn: 376.2338950\ttotal: 1.6s\tremaining: 1.55s\n",
      "508:\tlearn: 376.1994248\ttotal: 1.6s\tremaining: 1.55s\n",
      "509:\tlearn: 376.1721117\ttotal: 1.61s\tremaining: 1.54s\n",
      "510:\tlearn: 376.1465823\ttotal: 1.61s\tremaining: 1.54s\n",
      "511:\tlearn: 376.1043931\ttotal: 1.61s\tremaining: 1.54s\n",
      "512:\tlearn: 376.0798557\ttotal: 1.61s\tremaining: 1.53s\n",
      "513:\tlearn: 376.0277756\ttotal: 1.62s\tremaining: 1.53s\n",
      "514:\tlearn: 375.9829030\ttotal: 1.62s\tremaining: 1.53s\n",
      "515:\tlearn: 375.9569776\ttotal: 1.62s\tremaining: 1.52s\n",
      "516:\tlearn: 375.9115210\ttotal: 1.63s\tremaining: 1.52s\n",
      "517:\tlearn: 375.8599077\ttotal: 1.63s\tremaining: 1.52s\n",
      "518:\tlearn: 375.8306019\ttotal: 1.64s\tremaining: 1.52s\n",
      "519:\tlearn: 375.7805946\ttotal: 1.64s\tremaining: 1.51s\n",
      "520:\tlearn: 375.7440156\ttotal: 1.64s\tremaining: 1.51s\n",
      "521:\tlearn: 375.7151285\ttotal: 1.65s\tremaining: 1.51s\n",
      "522:\tlearn: 375.6860006\ttotal: 1.65s\tremaining: 1.5s\n",
      "523:\tlearn: 375.5879871\ttotal: 1.65s\tremaining: 1.5s\n",
      "524:\tlearn: 375.5171420\ttotal: 1.66s\tremaining: 1.5s\n",
      "525:\tlearn: 375.4777254\ttotal: 1.66s\tremaining: 1.49s\n",
      "526:\tlearn: 375.4461631\ttotal: 1.66s\tremaining: 1.49s\n",
      "527:\tlearn: 375.3884143\ttotal: 1.66s\tremaining: 1.49s\n",
      "528:\tlearn: 375.3745081\ttotal: 1.67s\tremaining: 1.48s\n",
      "529:\tlearn: 375.3306547\ttotal: 1.67s\tremaining: 1.48s\n",
      "530:\tlearn: 375.2561518\ttotal: 1.67s\tremaining: 1.48s\n",
      "531:\tlearn: 375.2284464\ttotal: 1.68s\tremaining: 1.47s\n",
      "532:\tlearn: 375.1305989\ttotal: 1.68s\tremaining: 1.47s\n",
      "533:\tlearn: 375.0829882\ttotal: 1.68s\tremaining: 1.47s\n",
      "534:\tlearn: 375.0525989\ttotal: 1.69s\tremaining: 1.47s\n",
      "535:\tlearn: 374.9663446\ttotal: 1.69s\tremaining: 1.46s\n",
      "536:\tlearn: 374.9290763\ttotal: 1.69s\tremaining: 1.46s\n",
      "537:\tlearn: 374.8961688\ttotal: 1.7s\tremaining: 1.46s\n",
      "538:\tlearn: 374.8649370\ttotal: 1.7s\tremaining: 1.45s\n",
      "539:\tlearn: 374.8198659\ttotal: 1.7s\tremaining: 1.45s\n",
      "540:\tlearn: 374.7668787\ttotal: 1.71s\tremaining: 1.45s\n",
      "541:\tlearn: 374.6792617\ttotal: 1.71s\tremaining: 1.44s\n",
      "542:\tlearn: 374.6530439\ttotal: 1.71s\tremaining: 1.44s\n",
      "543:\tlearn: 374.6111738\ttotal: 1.71s\tremaining: 1.44s\n",
      "544:\tlearn: 374.5747622\ttotal: 1.72s\tremaining: 1.43s\n",
      "545:\tlearn: 374.5132089\ttotal: 1.72s\tremaining: 1.43s\n",
      "546:\tlearn: 374.4847540\ttotal: 1.72s\tremaining: 1.43s\n",
      "547:\tlearn: 374.4401771\ttotal: 1.73s\tremaining: 1.42s\n",
      "548:\tlearn: 374.3532299\ttotal: 1.73s\tremaining: 1.42s\n",
      "549:\tlearn: 374.3254088\ttotal: 1.73s\tremaining: 1.42s\n",
      "550:\tlearn: 374.2871125\ttotal: 1.73s\tremaining: 1.41s\n",
      "551:\tlearn: 374.2258439\ttotal: 1.74s\tremaining: 1.41s\n",
      "552:\tlearn: 374.1936923\ttotal: 1.74s\tremaining: 1.41s\n",
      "553:\tlearn: 374.1719089\ttotal: 1.74s\tremaining: 1.4s\n",
      "554:\tlearn: 374.1420532\ttotal: 1.75s\tremaining: 1.4s\n",
      "555:\tlearn: 374.0750420\ttotal: 1.75s\tremaining: 1.4s\n",
      "556:\tlearn: 374.0448143\ttotal: 1.75s\tremaining: 1.39s\n",
      "557:\tlearn: 373.9628988\ttotal: 1.75s\tremaining: 1.39s\n",
      "558:\tlearn: 373.9216077\ttotal: 1.76s\tremaining: 1.39s\n",
      "559:\tlearn: 373.8649969\ttotal: 1.76s\tremaining: 1.38s\n",
      "560:\tlearn: 373.8063706\ttotal: 1.76s\tremaining: 1.38s\n",
      "561:\tlearn: 373.7608460\ttotal: 1.77s\tremaining: 1.38s\n",
      "562:\tlearn: 373.7170065\ttotal: 1.77s\tremaining: 1.37s\n",
      "563:\tlearn: 373.6730295\ttotal: 1.77s\tremaining: 1.37s\n",
      "564:\tlearn: 373.6094112\ttotal: 1.77s\tremaining: 1.37s\n",
      "565:\tlearn: 373.5657041\ttotal: 1.78s\tremaining: 1.36s\n",
      "566:\tlearn: 373.5212292\ttotal: 1.78s\tremaining: 1.36s\n",
      "567:\tlearn: 373.4553337\ttotal: 1.78s\tremaining: 1.36s\n",
      "568:\tlearn: 373.4203107\ttotal: 1.79s\tremaining: 1.35s\n",
      "569:\tlearn: 373.3356213\ttotal: 1.79s\tremaining: 1.35s\n",
      "570:\tlearn: 373.3169408\ttotal: 1.79s\tremaining: 1.35s\n",
      "571:\tlearn: 373.2842135\ttotal: 1.79s\tremaining: 1.34s\n",
      "572:\tlearn: 373.2484020\ttotal: 1.8s\tremaining: 1.34s\n",
      "573:\tlearn: 373.2231043\ttotal: 1.8s\tremaining: 1.34s\n",
      "574:\tlearn: 373.1878703\ttotal: 1.8s\tremaining: 1.33s\n",
      "575:\tlearn: 373.1589719\ttotal: 1.81s\tremaining: 1.33s\n",
      "576:\tlearn: 373.1023972\ttotal: 1.81s\tremaining: 1.33s\n",
      "577:\tlearn: 373.0701474\ttotal: 1.81s\tremaining: 1.32s\n",
      "578:\tlearn: 373.0281918\ttotal: 1.81s\tremaining: 1.32s\n",
      "579:\tlearn: 372.9886724\ttotal: 1.82s\tremaining: 1.32s\n"
     ]
    },
    {
     "name": "stdout",
     "output_type": "stream",
     "text": [
      "580:\tlearn: 372.9463882\ttotal: 1.82s\tremaining: 1.31s\n",
      "581:\tlearn: 372.9282017\ttotal: 1.82s\tremaining: 1.31s\n",
      "582:\tlearn: 372.8863642\ttotal: 1.83s\tremaining: 1.31s\n",
      "583:\tlearn: 372.8514059\ttotal: 1.83s\tremaining: 1.3s\n",
      "584:\tlearn: 372.7886316\ttotal: 1.83s\tremaining: 1.3s\n",
      "585:\tlearn: 372.7597300\ttotal: 1.84s\tremaining: 1.3s\n",
      "586:\tlearn: 372.6939648\ttotal: 1.84s\tremaining: 1.29s\n",
      "587:\tlearn: 372.6527442\ttotal: 1.84s\tremaining: 1.29s\n",
      "588:\tlearn: 372.5968809\ttotal: 1.84s\tremaining: 1.29s\n",
      "589:\tlearn: 372.5550786\ttotal: 1.85s\tremaining: 1.28s\n",
      "590:\tlearn: 372.5020760\ttotal: 1.85s\tremaining: 1.28s\n",
      "591:\tlearn: 372.4514153\ttotal: 1.85s\tremaining: 1.28s\n",
      "592:\tlearn: 372.4108009\ttotal: 1.86s\tremaining: 1.27s\n",
      "593:\tlearn: 372.3740121\ttotal: 1.86s\tremaining: 1.27s\n",
      "594:\tlearn: 372.3298828\ttotal: 1.86s\tremaining: 1.27s\n",
      "595:\tlearn: 372.3086740\ttotal: 1.87s\tremaining: 1.26s\n",
      "596:\tlearn: 372.2701805\ttotal: 1.87s\tremaining: 1.26s\n",
      "597:\tlearn: 372.2179205\ttotal: 1.87s\tremaining: 1.26s\n",
      "598:\tlearn: 372.1598563\ttotal: 1.88s\tremaining: 1.25s\n",
      "599:\tlearn: 372.1346089\ttotal: 1.88s\tremaining: 1.25s\n",
      "600:\tlearn: 372.1011565\ttotal: 1.88s\tremaining: 1.25s\n",
      "601:\tlearn: 372.0653010\ttotal: 1.88s\tremaining: 1.25s\n",
      "602:\tlearn: 372.0227067\ttotal: 1.89s\tremaining: 1.24s\n",
      "603:\tlearn: 371.9962122\ttotal: 1.89s\tremaining: 1.24s\n",
      "604:\tlearn: 371.9694840\ttotal: 1.89s\tremaining: 1.24s\n",
      "605:\tlearn: 371.8644979\ttotal: 1.9s\tremaining: 1.23s\n",
      "606:\tlearn: 371.8242830\ttotal: 1.9s\tremaining: 1.23s\n",
      "607:\tlearn: 371.8012567\ttotal: 1.91s\tremaining: 1.23s\n",
      "608:\tlearn: 371.7307938\ttotal: 1.91s\tremaining: 1.23s\n",
      "609:\tlearn: 371.7035759\ttotal: 1.91s\tremaining: 1.22s\n",
      "610:\tlearn: 371.6632887\ttotal: 1.92s\tremaining: 1.22s\n",
      "611:\tlearn: 371.6059740\ttotal: 1.92s\tremaining: 1.22s\n",
      "612:\tlearn: 371.5674996\ttotal: 1.92s\tremaining: 1.21s\n",
      "613:\tlearn: 371.5259835\ttotal: 1.92s\tremaining: 1.21s\n",
      "614:\tlearn: 371.4949747\ttotal: 1.93s\tremaining: 1.21s\n",
      "615:\tlearn: 371.4363911\ttotal: 1.93s\tremaining: 1.2s\n",
      "616:\tlearn: 371.4085956\ttotal: 1.93s\tremaining: 1.2s\n",
      "617:\tlearn: 371.3628404\ttotal: 1.94s\tremaining: 1.2s\n",
      "618:\tlearn: 371.2998582\ttotal: 1.94s\tremaining: 1.19s\n",
      "619:\tlearn: 371.2424660\ttotal: 1.94s\tremaining: 1.19s\n",
      "620:\tlearn: 371.1713840\ttotal: 1.95s\tremaining: 1.19s\n",
      "621:\tlearn: 371.1162348\ttotal: 1.95s\tremaining: 1.18s\n",
      "622:\tlearn: 371.0463932\ttotal: 1.95s\tremaining: 1.18s\n",
      "623:\tlearn: 371.0154728\ttotal: 1.96s\tremaining: 1.18s\n",
      "624:\tlearn: 370.9336341\ttotal: 1.96s\tremaining: 1.17s\n",
      "625:\tlearn: 370.9077058\ttotal: 1.96s\tremaining: 1.17s\n",
      "626:\tlearn: 370.8821159\ttotal: 1.96s\tremaining: 1.17s\n",
      "627:\tlearn: 370.8745650\ttotal: 1.97s\tremaining: 1.17s\n",
      "628:\tlearn: 370.8271841\ttotal: 1.97s\tremaining: 1.16s\n",
      "629:\tlearn: 370.8066710\ttotal: 1.97s\tremaining: 1.16s\n",
      "630:\tlearn: 370.7705959\ttotal: 1.98s\tremaining: 1.16s\n",
      "631:\tlearn: 370.7286050\ttotal: 1.98s\tremaining: 1.15s\n",
      "632:\tlearn: 370.7227175\ttotal: 1.98s\tremaining: 1.15s\n",
      "633:\tlearn: 370.6913232\ttotal: 1.98s\tremaining: 1.15s\n",
      "634:\tlearn: 370.6557761\ttotal: 1.99s\tremaining: 1.14s\n",
      "635:\tlearn: 370.6228397\ttotal: 1.99s\tremaining: 1.14s\n",
      "636:\tlearn: 370.5811197\ttotal: 1.99s\tremaining: 1.14s\n",
      "637:\tlearn: 370.5479092\ttotal: 2s\tremaining: 1.13s\n",
      "638:\tlearn: 370.5066929\ttotal: 2s\tremaining: 1.13s\n",
      "639:\tlearn: 370.4716103\ttotal: 2s\tremaining: 1.13s\n",
      "640:\tlearn: 370.4254185\ttotal: 2.01s\tremaining: 1.12s\n",
      "641:\tlearn: 370.4018389\ttotal: 2.01s\tremaining: 1.12s\n",
      "642:\tlearn: 370.3709469\ttotal: 2.01s\tremaining: 1.12s\n",
      "643:\tlearn: 370.3389912\ttotal: 2.02s\tremaining: 1.11s\n",
      "644:\tlearn: 370.3015027\ttotal: 2.02s\tremaining: 1.11s\n",
      "645:\tlearn: 370.2615496\ttotal: 2.02s\tremaining: 1.11s\n",
      "646:\tlearn: 370.2221756\ttotal: 2.03s\tremaining: 1.11s\n",
      "647:\tlearn: 370.1900633\ttotal: 2.03s\tremaining: 1.1s\n",
      "648:\tlearn: 370.1738795\ttotal: 2.03s\tremaining: 1.1s\n",
      "649:\tlearn: 370.1415797\ttotal: 2.04s\tremaining: 1.1s\n",
      "650:\tlearn: 370.1130680\ttotal: 2.04s\tremaining: 1.09s\n",
      "651:\tlearn: 370.0884839\ttotal: 2.04s\tremaining: 1.09s\n",
      "652:\tlearn: 370.0456367\ttotal: 2.04s\tremaining: 1.09s\n",
      "653:\tlearn: 370.0120636\ttotal: 2.05s\tremaining: 1.08s\n",
      "654:\tlearn: 369.9710505\ttotal: 2.05s\tremaining: 1.08s\n",
      "655:\tlearn: 369.9259059\ttotal: 2.05s\tremaining: 1.08s\n",
      "656:\tlearn: 369.8889448\ttotal: 2.06s\tremaining: 1.07s\n",
      "657:\tlearn: 369.8090994\ttotal: 2.06s\tremaining: 1.07s\n",
      "658:\tlearn: 369.7540566\ttotal: 2.06s\tremaining: 1.07s\n",
      "659:\tlearn: 369.7083521\ttotal: 2.06s\tremaining: 1.06s\n",
      "660:\tlearn: 369.6857736\ttotal: 2.07s\tremaining: 1.06s\n",
      "661:\tlearn: 369.6590743\ttotal: 2.07s\tremaining: 1.06s\n",
      "662:\tlearn: 369.6252837\ttotal: 2.07s\tremaining: 1.05s\n",
      "663:\tlearn: 369.5798761\ttotal: 2.08s\tremaining: 1.05s\n",
      "664:\tlearn: 369.5373075\ttotal: 2.08s\tremaining: 1.05s\n",
      "665:\tlearn: 369.4813809\ttotal: 2.08s\tremaining: 1.04s\n",
      "666:\tlearn: 369.4511600\ttotal: 2.08s\tremaining: 1.04s\n",
      "667:\tlearn: 369.4084390\ttotal: 2.09s\tremaining: 1.04s\n",
      "668:\tlearn: 369.3739850\ttotal: 2.09s\tremaining: 1.03s\n",
      "669:\tlearn: 369.3466083\ttotal: 2.09s\tremaining: 1.03s\n",
      "670:\tlearn: 369.2975758\ttotal: 2.1s\tremaining: 1.03s\n",
      "671:\tlearn: 369.2594011\ttotal: 2.1s\tremaining: 1.02s\n",
      "672:\tlearn: 369.2322384\ttotal: 2.1s\tremaining: 1.02s\n",
      "673:\tlearn: 369.2064030\ttotal: 2.1s\tremaining: 1.02s\n",
      "674:\tlearn: 369.1585799\ttotal: 2.11s\tremaining: 1.01s\n",
      "675:\tlearn: 369.1357312\ttotal: 2.11s\tremaining: 1.01s\n",
      "676:\tlearn: 369.1028998\ttotal: 2.11s\tremaining: 1.01s\n",
      "677:\tlearn: 369.0550911\ttotal: 2.12s\tremaining: 1s\n",
      "678:\tlearn: 369.0179261\ttotal: 2.12s\tremaining: 1s\n",
      "679:\tlearn: 369.0019707\ttotal: 2.12s\tremaining: 999ms\n",
      "680:\tlearn: 368.9733602\ttotal: 2.13s\tremaining: 995ms\n",
      "681:\tlearn: 368.9460185\ttotal: 2.13s\tremaining: 992ms\n",
      "682:\tlearn: 368.9131137\ttotal: 2.13s\tremaining: 989ms\n",
      "683:\tlearn: 368.8653878\ttotal: 2.13s\tremaining: 986ms\n",
      "684:\tlearn: 368.8114970\ttotal: 2.14s\tremaining: 982ms\n",
      "685:\tlearn: 368.7904867\ttotal: 2.14s\tremaining: 979ms\n",
      "686:\tlearn: 368.7556634\ttotal: 2.14s\tremaining: 976ms\n",
      "687:\tlearn: 368.7137146\ttotal: 2.14s\tremaining: 973ms\n",
      "688:\tlearn: 368.6476452\ttotal: 2.15s\tremaining: 969ms\n",
      "689:\tlearn: 368.6184828\ttotal: 2.15s\tremaining: 966ms\n",
      "690:\tlearn: 368.5880420\ttotal: 2.15s\tremaining: 963ms\n",
      "691:\tlearn: 368.5770460\ttotal: 2.16s\tremaining: 960ms\n",
      "692:\tlearn: 368.5211068\ttotal: 2.16s\tremaining: 957ms\n",
      "693:\tlearn: 368.4782591\ttotal: 2.16s\tremaining: 954ms\n",
      "694:\tlearn: 368.4070198\ttotal: 2.17s\tremaining: 951ms\n",
      "695:\tlearn: 368.3736690\ttotal: 2.17s\tremaining: 947ms\n",
      "696:\tlearn: 368.3282193\ttotal: 2.17s\tremaining: 944ms\n",
      "697:\tlearn: 368.2910270\ttotal: 2.17s\tremaining: 941ms\n",
      "698:\tlearn: 368.2706866\ttotal: 2.18s\tremaining: 938ms\n",
      "699:\tlearn: 368.2455861\ttotal: 2.18s\tremaining: 935ms\n",
      "700:\tlearn: 368.2250435\ttotal: 2.18s\tremaining: 931ms\n",
      "701:\tlearn: 368.1766762\ttotal: 2.19s\tremaining: 928ms\n",
      "702:\tlearn: 368.1014620\ttotal: 2.19s\tremaining: 925ms\n",
      "703:\tlearn: 368.0710982\ttotal: 2.19s\tremaining: 922ms\n",
      "704:\tlearn: 368.0403833\ttotal: 2.2s\tremaining: 919ms\n",
      "705:\tlearn: 368.0105739\ttotal: 2.2s\tremaining: 916ms\n",
      "706:\tlearn: 367.9857876\ttotal: 2.2s\tremaining: 913ms\n",
      "707:\tlearn: 367.9637380\ttotal: 2.21s\tremaining: 910ms\n",
      "708:\tlearn: 367.9490114\ttotal: 2.21s\tremaining: 907ms\n",
      "709:\tlearn: 367.9259372\ttotal: 2.21s\tremaining: 904ms\n",
      "710:\tlearn: 367.8822616\ttotal: 2.22s\tremaining: 901ms\n",
      "711:\tlearn: 367.8648659\ttotal: 2.22s\tremaining: 898ms\n",
      "712:\tlearn: 367.8179676\ttotal: 2.22s\tremaining: 895ms\n",
      "713:\tlearn: 367.7786148\ttotal: 2.23s\tremaining: 891ms\n",
      "714:\tlearn: 367.7536467\ttotal: 2.23s\tremaining: 888ms\n",
      "715:\tlearn: 367.7068931\ttotal: 2.23s\tremaining: 885ms\n",
      "716:\tlearn: 367.6835737\ttotal: 2.23s\tremaining: 882ms\n",
      "717:\tlearn: 367.6403149\ttotal: 2.24s\tremaining: 879ms\n",
      "718:\tlearn: 367.6053403\ttotal: 2.24s\tremaining: 876ms\n",
      "719:\tlearn: 367.5845844\ttotal: 2.24s\tremaining: 872ms\n",
      "720:\tlearn: 367.5614740\ttotal: 2.25s\tremaining: 869ms\n",
      "721:\tlearn: 367.5331487\ttotal: 2.25s\tremaining: 866ms\n",
      "722:\tlearn: 367.5022569\ttotal: 2.25s\tremaining: 864ms\n",
      "723:\tlearn: 367.4744533\ttotal: 2.26s\tremaining: 861ms\n",
      "724:\tlearn: 367.4346405\ttotal: 2.26s\tremaining: 858ms\n",
      "725:\tlearn: 367.3928879\ttotal: 2.26s\tremaining: 854ms\n",
      "726:\tlearn: 367.3671138\ttotal: 2.27s\tremaining: 851ms\n",
      "727:\tlearn: 367.3387461\ttotal: 2.27s\tremaining: 848ms\n",
      "728:\tlearn: 367.3080430\ttotal: 2.27s\tremaining: 845ms\n",
      "729:\tlearn: 367.2866157\ttotal: 2.27s\tremaining: 842ms\n",
      "730:\tlearn: 367.2665322\ttotal: 2.28s\tremaining: 838ms\n",
      "731:\tlearn: 367.2225862\ttotal: 2.28s\tremaining: 835ms\n",
      "732:\tlearn: 367.1980794\ttotal: 2.28s\tremaining: 832ms\n",
      "733:\tlearn: 367.1823044\ttotal: 2.29s\tremaining: 829ms\n",
      "734:\tlearn: 367.1544634\ttotal: 2.29s\tremaining: 826ms\n",
      "735:\tlearn: 367.1223531\ttotal: 2.29s\tremaining: 823ms\n",
      "736:\tlearn: 367.1008090\ttotal: 2.3s\tremaining: 820ms\n",
      "737:\tlearn: 367.0615970\ttotal: 2.3s\tremaining: 816ms\n",
      "738:\tlearn: 366.9808141\ttotal: 2.3s\tremaining: 813ms\n",
      "739:\tlearn: 366.9535852\ttotal: 2.31s\tremaining: 810ms\n",
      "740:\tlearn: 366.9217645\ttotal: 2.31s\tremaining: 807ms\n",
      "741:\tlearn: 366.9008579\ttotal: 2.31s\tremaining: 804ms\n",
      "742:\tlearn: 366.8795949\ttotal: 2.31s\tremaining: 801ms\n",
      "743:\tlearn: 366.8445093\ttotal: 2.32s\tremaining: 797ms\n",
      "744:\tlearn: 366.8292568\ttotal: 2.32s\tremaining: 794ms\n",
      "745:\tlearn: 366.8159438\ttotal: 2.32s\tremaining: 791ms\n",
      "746:\tlearn: 366.7731565\ttotal: 2.33s\tremaining: 788ms\n",
      "747:\tlearn: 366.7465462\ttotal: 2.33s\tremaining: 784ms\n",
      "748:\tlearn: 366.7151417\ttotal: 2.33s\tremaining: 781ms\n",
      "749:\tlearn: 366.6944941\ttotal: 2.33s\tremaining: 778ms\n",
      "750:\tlearn: 366.6744140\ttotal: 2.34s\tremaining: 775ms\n",
      "751:\tlearn: 366.6434821\ttotal: 2.34s\tremaining: 771ms\n",
      "752:\tlearn: 366.6136570\ttotal: 2.34s\tremaining: 768ms\n",
      "753:\tlearn: 366.5874530\ttotal: 2.34s\tremaining: 765ms\n",
      "754:\tlearn: 366.5269887\ttotal: 2.35s\tremaining: 762ms\n",
      "755:\tlearn: 366.5002251\ttotal: 2.35s\tremaining: 759ms\n",
      "756:\tlearn: 366.4809598\ttotal: 2.35s\tremaining: 756ms\n",
      "757:\tlearn: 366.4507156\ttotal: 2.36s\tremaining: 752ms\n",
      "758:\tlearn: 366.4207189\ttotal: 2.36s\tremaining: 749ms\n",
      "759:\tlearn: 366.3968082\ttotal: 2.36s\tremaining: 746ms\n",
      "760:\tlearn: 366.3806588\ttotal: 2.37s\tremaining: 743ms\n",
      "761:\tlearn: 366.3552644\ttotal: 2.37s\tremaining: 740ms\n",
      "762:\tlearn: 366.3269011\ttotal: 2.37s\tremaining: 736ms\n",
      "763:\tlearn: 366.2876582\ttotal: 2.37s\tremaining: 733ms\n",
      "764:\tlearn: 366.2666465\ttotal: 2.38s\tremaining: 730ms\n",
      "765:\tlearn: 366.2231094\ttotal: 2.38s\tremaining: 727ms\n",
      "766:\tlearn: 366.2038938\ttotal: 2.38s\tremaining: 724ms\n",
      "767:\tlearn: 366.1639672\ttotal: 2.38s\tremaining: 720ms\n",
      "768:\tlearn: 366.1458706\ttotal: 2.39s\tremaining: 717ms\n",
      "769:\tlearn: 366.1215541\ttotal: 2.39s\tremaining: 714ms\n",
      "770:\tlearn: 366.0924904\ttotal: 2.39s\tremaining: 711ms\n",
      "771:\tlearn: 366.0665474\ttotal: 2.4s\tremaining: 708ms\n",
      "772:\tlearn: 366.0483950\ttotal: 2.4s\tremaining: 704ms\n",
      "773:\tlearn: 366.0148077\ttotal: 2.4s\tremaining: 701ms\n"
     ]
    },
    {
     "name": "stdout",
     "output_type": "stream",
     "text": [
      "774:\tlearn: 365.9860373\ttotal: 2.4s\tremaining: 698ms\n",
      "775:\tlearn: 365.9612142\ttotal: 2.41s\tremaining: 695ms\n",
      "776:\tlearn: 365.9363788\ttotal: 2.41s\tremaining: 692ms\n",
      "777:\tlearn: 365.8806025\ttotal: 2.42s\tremaining: 689ms\n",
      "778:\tlearn: 365.8511529\ttotal: 2.42s\tremaining: 686ms\n",
      "779:\tlearn: 365.8277347\ttotal: 2.42s\tremaining: 683ms\n",
      "780:\tlearn: 365.8058312\ttotal: 2.42s\tremaining: 680ms\n",
      "781:\tlearn: 365.7670618\ttotal: 2.43s\tremaining: 677ms\n",
      "782:\tlearn: 365.7504012\ttotal: 2.43s\tremaining: 673ms\n",
      "783:\tlearn: 365.7303011\ttotal: 2.43s\tremaining: 670ms\n",
      "784:\tlearn: 365.7010140\ttotal: 2.44s\tremaining: 667ms\n",
      "785:\tlearn: 365.6910174\ttotal: 2.44s\tremaining: 664ms\n",
      "786:\tlearn: 365.6704780\ttotal: 2.44s\tremaining: 661ms\n",
      "787:\tlearn: 365.6454207\ttotal: 2.44s\tremaining: 658ms\n",
      "788:\tlearn: 365.5505027\ttotal: 2.45s\tremaining: 655ms\n",
      "789:\tlearn: 365.5000215\ttotal: 2.45s\tremaining: 652ms\n",
      "790:\tlearn: 365.4690150\ttotal: 2.45s\tremaining: 648ms\n",
      "791:\tlearn: 365.4071631\ttotal: 2.46s\tremaining: 645ms\n",
      "792:\tlearn: 365.3704238\ttotal: 2.46s\tremaining: 642ms\n",
      "793:\tlearn: 365.3399034\ttotal: 2.46s\tremaining: 639ms\n",
      "794:\tlearn: 365.3022751\ttotal: 2.46s\tremaining: 636ms\n",
      "795:\tlearn: 365.2756909\ttotal: 2.47s\tremaining: 633ms\n",
      "796:\tlearn: 365.2459175\ttotal: 2.47s\tremaining: 630ms\n",
      "797:\tlearn: 365.1996760\ttotal: 2.47s\tremaining: 626ms\n",
      "798:\tlearn: 365.1664549\ttotal: 2.48s\tremaining: 623ms\n",
      "799:\tlearn: 365.1248071\ttotal: 2.48s\tremaining: 620ms\n",
      "800:\tlearn: 365.1065962\ttotal: 2.48s\tremaining: 617ms\n",
      "801:\tlearn: 365.0808019\ttotal: 2.49s\tremaining: 614ms\n",
      "802:\tlearn: 365.0480663\ttotal: 2.49s\tremaining: 611ms\n",
      "803:\tlearn: 364.9756711\ttotal: 2.49s\tremaining: 608ms\n",
      "804:\tlearn: 364.9357518\ttotal: 2.5s\tremaining: 605ms\n",
      "805:\tlearn: 364.9152483\ttotal: 2.5s\tremaining: 602ms\n",
      "806:\tlearn: 364.8895354\ttotal: 2.5s\tremaining: 598ms\n",
      "807:\tlearn: 364.8337282\ttotal: 2.5s\tremaining: 595ms\n",
      "808:\tlearn: 364.8122884\ttotal: 2.51s\tremaining: 592ms\n",
      "809:\tlearn: 364.7825079\ttotal: 2.51s\tremaining: 589ms\n",
      "810:\tlearn: 364.7621411\ttotal: 2.51s\tremaining: 586ms\n",
      "811:\tlearn: 364.7432846\ttotal: 2.52s\tremaining: 583ms\n",
      "812:\tlearn: 364.7223167\ttotal: 2.52s\tremaining: 580ms\n",
      "813:\tlearn: 364.7073492\ttotal: 2.52s\tremaining: 577ms\n",
      "814:\tlearn: 364.6865754\ttotal: 2.53s\tremaining: 574ms\n",
      "815:\tlearn: 364.6613472\ttotal: 2.53s\tremaining: 570ms\n",
      "816:\tlearn: 364.6352857\ttotal: 2.53s\tremaining: 567ms\n",
      "817:\tlearn: 364.5867355\ttotal: 2.54s\tremaining: 564ms\n",
      "818:\tlearn: 364.5666501\ttotal: 2.54s\tremaining: 561ms\n",
      "819:\tlearn: 364.5443776\ttotal: 2.54s\tremaining: 558ms\n",
      "820:\tlearn: 364.5264486\ttotal: 2.55s\tremaining: 555ms\n",
      "821:\tlearn: 364.5087643\ttotal: 2.55s\tremaining: 552ms\n",
      "822:\tlearn: 364.4378195\ttotal: 2.55s\tremaining: 549ms\n",
      "823:\tlearn: 364.4050183\ttotal: 2.55s\tremaining: 546ms\n",
      "824:\tlearn: 364.3767076\ttotal: 2.56s\tremaining: 543ms\n",
      "825:\tlearn: 364.3524748\ttotal: 2.56s\tremaining: 539ms\n",
      "826:\tlearn: 364.3256008\ttotal: 2.56s\tremaining: 536ms\n",
      "827:\tlearn: 364.3132719\ttotal: 2.57s\tremaining: 533ms\n",
      "828:\tlearn: 364.2786637\ttotal: 2.57s\tremaining: 530ms\n",
      "829:\tlearn: 364.2583222\ttotal: 2.57s\tremaining: 527ms\n",
      "830:\tlearn: 364.2307175\ttotal: 2.58s\tremaining: 524ms\n",
      "831:\tlearn: 364.2103743\ttotal: 2.58s\tremaining: 521ms\n",
      "832:\tlearn: 364.1625800\ttotal: 2.58s\tremaining: 518ms\n",
      "833:\tlearn: 364.1304397\ttotal: 2.58s\tremaining: 515ms\n",
      "834:\tlearn: 364.1056017\ttotal: 2.59s\tremaining: 511ms\n",
      "835:\tlearn: 364.0744355\ttotal: 2.59s\tremaining: 508ms\n",
      "836:\tlearn: 363.9922800\ttotal: 2.59s\tremaining: 505ms\n",
      "837:\tlearn: 363.9596519\ttotal: 2.6s\tremaining: 502ms\n",
      "838:\tlearn: 363.9372446\ttotal: 2.6s\tremaining: 499ms\n",
      "839:\tlearn: 363.8672190\ttotal: 2.6s\tremaining: 496ms\n",
      "840:\tlearn: 363.8318933\ttotal: 2.61s\tremaining: 493ms\n",
      "841:\tlearn: 363.8154390\ttotal: 2.61s\tremaining: 490ms\n",
      "842:\tlearn: 363.7928549\ttotal: 2.61s\tremaining: 487ms\n",
      "843:\tlearn: 363.7607411\ttotal: 2.62s\tremaining: 484ms\n",
      "844:\tlearn: 363.7284961\ttotal: 2.62s\tremaining: 481ms\n",
      "845:\tlearn: 363.6966990\ttotal: 2.63s\tremaining: 478ms\n",
      "846:\tlearn: 363.6846422\ttotal: 2.63s\tremaining: 475ms\n",
      "847:\tlearn: 363.6689985\ttotal: 2.63s\tremaining: 472ms\n",
      "848:\tlearn: 363.6513451\ttotal: 2.63s\tremaining: 469ms\n",
      "849:\tlearn: 363.6314082\ttotal: 2.64s\tremaining: 466ms\n",
      "850:\tlearn: 363.6133798\ttotal: 2.64s\tremaining: 462ms\n",
      "851:\tlearn: 363.5817937\ttotal: 2.64s\tremaining: 459ms\n",
      "852:\tlearn: 363.5623287\ttotal: 2.65s\tremaining: 456ms\n",
      "853:\tlearn: 363.4931417\ttotal: 2.65s\tremaining: 453ms\n",
      "854:\tlearn: 363.4639221\ttotal: 2.65s\tremaining: 450ms\n",
      "855:\tlearn: 363.4502620\ttotal: 2.65s\tremaining: 447ms\n",
      "856:\tlearn: 363.4341379\ttotal: 2.66s\tremaining: 443ms\n",
      "857:\tlearn: 363.4144162\ttotal: 2.66s\tremaining: 440ms\n",
      "858:\tlearn: 363.3950844\ttotal: 2.66s\tremaining: 437ms\n",
      "859:\tlearn: 363.3685976\ttotal: 2.67s\tremaining: 434ms\n",
      "860:\tlearn: 363.3384019\ttotal: 2.67s\tremaining: 431ms\n",
      "861:\tlearn: 363.3166643\ttotal: 2.67s\tremaining: 428ms\n",
      "862:\tlearn: 363.3023606\ttotal: 2.67s\tremaining: 425ms\n",
      "863:\tlearn: 363.2832194\ttotal: 2.68s\tremaining: 422ms\n",
      "864:\tlearn: 363.2601945\ttotal: 2.68s\tremaining: 418ms\n",
      "865:\tlearn: 363.2314948\ttotal: 2.68s\tremaining: 415ms\n",
      "866:\tlearn: 363.2285905\ttotal: 2.69s\tremaining: 412ms\n",
      "867:\tlearn: 363.2048828\ttotal: 2.69s\tremaining: 409ms\n",
      "868:\tlearn: 363.1798477\ttotal: 2.69s\tremaining: 406ms\n",
      "869:\tlearn: 363.1542643\ttotal: 2.69s\tremaining: 403ms\n",
      "870:\tlearn: 363.1350246\ttotal: 2.7s\tremaining: 400ms\n",
      "871:\tlearn: 363.1123280\ttotal: 2.7s\tremaining: 397ms\n",
      "872:\tlearn: 363.0953861\ttotal: 2.7s\tremaining: 393ms\n",
      "873:\tlearn: 363.0821126\ttotal: 2.71s\tremaining: 390ms\n",
      "874:\tlearn: 363.0675183\ttotal: 2.71s\tremaining: 387ms\n",
      "875:\tlearn: 363.0359312\ttotal: 2.71s\tremaining: 384ms\n",
      "876:\tlearn: 363.0193730\ttotal: 2.71s\tremaining: 381ms\n",
      "877:\tlearn: 362.9930288\ttotal: 2.72s\tremaining: 378ms\n",
      "878:\tlearn: 362.9741951\ttotal: 2.72s\tremaining: 375ms\n",
      "879:\tlearn: 362.9538153\ttotal: 2.72s\tremaining: 371ms\n",
      "880:\tlearn: 362.9305988\ttotal: 2.73s\tremaining: 368ms\n",
      "881:\tlearn: 362.9134105\ttotal: 2.73s\tremaining: 365ms\n",
      "882:\tlearn: 362.8958671\ttotal: 2.73s\tremaining: 362ms\n",
      "883:\tlearn: 362.8727190\ttotal: 2.73s\tremaining: 359ms\n",
      "884:\tlearn: 362.8432434\ttotal: 2.74s\tremaining: 356ms\n",
      "885:\tlearn: 362.8185114\ttotal: 2.74s\tremaining: 353ms\n",
      "886:\tlearn: 362.8047491\ttotal: 2.74s\tremaining: 349ms\n",
      "887:\tlearn: 362.7699027\ttotal: 2.75s\tremaining: 346ms\n",
      "888:\tlearn: 362.7448412\ttotal: 2.75s\tremaining: 343ms\n",
      "889:\tlearn: 362.7284121\ttotal: 2.75s\tremaining: 340ms\n",
      "890:\tlearn: 362.6976161\ttotal: 2.75s\tremaining: 337ms\n",
      "891:\tlearn: 362.6836033\ttotal: 2.76s\tremaining: 334ms\n",
      "892:\tlearn: 362.6786178\ttotal: 2.76s\tremaining: 331ms\n",
      "893:\tlearn: 362.6458739\ttotal: 2.76s\tremaining: 328ms\n",
      "894:\tlearn: 362.6133905\ttotal: 2.77s\tremaining: 324ms\n",
      "895:\tlearn: 362.5537392\ttotal: 2.77s\tremaining: 321ms\n",
      "896:\tlearn: 362.5187281\ttotal: 2.77s\tremaining: 318ms\n",
      "897:\tlearn: 362.4290625\ttotal: 2.77s\tremaining: 315ms\n",
      "898:\tlearn: 362.4105636\ttotal: 2.78s\tremaining: 312ms\n",
      "899:\tlearn: 362.3921157\ttotal: 2.78s\tremaining: 309ms\n",
      "900:\tlearn: 362.3739285\ttotal: 2.78s\tremaining: 306ms\n",
      "901:\tlearn: 362.3259968\ttotal: 2.79s\tremaining: 303ms\n",
      "902:\tlearn: 362.3096976\ttotal: 2.79s\tremaining: 300ms\n",
      "903:\tlearn: 362.2876577\ttotal: 2.79s\tremaining: 296ms\n",
      "904:\tlearn: 362.2720539\ttotal: 2.79s\tremaining: 293ms\n",
      "905:\tlearn: 362.2386274\ttotal: 2.8s\tremaining: 290ms\n",
      "906:\tlearn: 362.2134420\ttotal: 2.8s\tremaining: 287ms\n",
      "907:\tlearn: 362.2022558\ttotal: 2.8s\tremaining: 284ms\n",
      "908:\tlearn: 362.1832716\ttotal: 2.81s\tremaining: 281ms\n",
      "909:\tlearn: 362.1532232\ttotal: 2.81s\tremaining: 278ms\n",
      "910:\tlearn: 362.1374190\ttotal: 2.81s\tremaining: 275ms\n",
      "911:\tlearn: 362.0896562\ttotal: 2.82s\tremaining: 272ms\n",
      "912:\tlearn: 362.0675539\ttotal: 2.82s\tremaining: 269ms\n",
      "913:\tlearn: 362.0575411\ttotal: 2.82s\tremaining: 266ms\n",
      "914:\tlearn: 362.0393749\ttotal: 2.83s\tremaining: 263ms\n",
      "915:\tlearn: 362.0209293\ttotal: 2.83s\tremaining: 259ms\n",
      "916:\tlearn: 361.9966589\ttotal: 2.83s\tremaining: 256ms\n",
      "917:\tlearn: 361.9732217\ttotal: 2.83s\tremaining: 253ms\n",
      "918:\tlearn: 361.9565789\ttotal: 2.84s\tremaining: 250ms\n",
      "919:\tlearn: 361.9224618\ttotal: 2.84s\tremaining: 247ms\n",
      "920:\tlearn: 361.8773268\ttotal: 2.84s\tremaining: 244ms\n",
      "921:\tlearn: 361.8200448\ttotal: 2.85s\tremaining: 241ms\n",
      "922:\tlearn: 361.7996213\ttotal: 2.85s\tremaining: 238ms\n",
      "923:\tlearn: 361.7694257\ttotal: 2.85s\tremaining: 235ms\n",
      "924:\tlearn: 361.7552428\ttotal: 2.86s\tremaining: 232ms\n",
      "925:\tlearn: 361.7354409\ttotal: 2.86s\tremaining: 229ms\n",
      "926:\tlearn: 361.7326197\ttotal: 2.86s\tremaining: 226ms\n",
      "927:\tlearn: 361.7184648\ttotal: 2.87s\tremaining: 222ms\n",
      "928:\tlearn: 361.6970235\ttotal: 2.87s\tremaining: 219ms\n",
      "929:\tlearn: 361.6705037\ttotal: 2.87s\tremaining: 216ms\n",
      "930:\tlearn: 361.6400678\ttotal: 2.88s\tremaining: 213ms\n",
      "931:\tlearn: 361.6127075\ttotal: 2.88s\tremaining: 210ms\n",
      "932:\tlearn: 361.5826203\ttotal: 2.88s\tremaining: 207ms\n",
      "933:\tlearn: 361.5687078\ttotal: 2.88s\tremaining: 204ms\n",
      "934:\tlearn: 361.5520706\ttotal: 2.89s\tremaining: 201ms\n",
      "935:\tlearn: 361.4942354\ttotal: 2.89s\tremaining: 198ms\n",
      "936:\tlearn: 361.4692823\ttotal: 2.89s\tremaining: 195ms\n",
      "937:\tlearn: 361.4436224\ttotal: 2.9s\tremaining: 192ms\n",
      "938:\tlearn: 361.4078148\ttotal: 2.9s\tremaining: 188ms\n",
      "939:\tlearn: 361.3711059\ttotal: 2.9s\tremaining: 185ms\n",
      "940:\tlearn: 361.3656874\ttotal: 2.91s\tremaining: 182ms\n",
      "941:\tlearn: 361.3495173\ttotal: 2.91s\tremaining: 179ms\n",
      "942:\tlearn: 361.3195280\ttotal: 2.91s\tremaining: 176ms\n",
      "943:\tlearn: 361.3087459\ttotal: 2.92s\tremaining: 173ms\n",
      "944:\tlearn: 361.2991170\ttotal: 2.92s\tremaining: 170ms\n",
      "945:\tlearn: 361.2783677\ttotal: 2.92s\tremaining: 167ms\n",
      "946:\tlearn: 361.2604268\ttotal: 2.92s\tremaining: 164ms\n",
      "947:\tlearn: 361.2351184\ttotal: 2.93s\tremaining: 161ms\n",
      "948:\tlearn: 361.2172825\ttotal: 2.93s\tremaining: 158ms\n",
      "949:\tlearn: 361.1299419\ttotal: 2.93s\tremaining: 154ms\n",
      "950:\tlearn: 361.1066855\ttotal: 2.94s\tremaining: 151ms\n",
      "951:\tlearn: 361.0819219\ttotal: 2.94s\tremaining: 148ms\n",
      "952:\tlearn: 361.0570945\ttotal: 2.94s\tremaining: 145ms\n",
      "953:\tlearn: 361.0417449\ttotal: 2.95s\tremaining: 142ms\n",
      "954:\tlearn: 361.0106933\ttotal: 2.95s\tremaining: 139ms\n",
      "955:\tlearn: 360.9751137\ttotal: 2.95s\tremaining: 136ms\n",
      "956:\tlearn: 360.9440087\ttotal: 2.95s\tremaining: 133ms\n",
      "957:\tlearn: 360.9198032\ttotal: 2.96s\tremaining: 130ms\n",
      "958:\tlearn: 360.8977428\ttotal: 2.96s\tremaining: 127ms\n",
      "959:\tlearn: 360.8828134\ttotal: 2.96s\tremaining: 123ms\n",
      "960:\tlearn: 360.8690600\ttotal: 2.96s\tremaining: 120ms\n",
      "961:\tlearn: 360.8515411\ttotal: 2.97s\tremaining: 117ms\n",
      "962:\tlearn: 360.8228898\ttotal: 2.97s\tremaining: 114ms\n",
      "963:\tlearn: 360.7984036\ttotal: 2.97s\tremaining: 111ms\n",
      "964:\tlearn: 360.7727736\ttotal: 2.98s\tremaining: 108ms\n",
      "965:\tlearn: 360.7504134\ttotal: 2.98s\tremaining: 105ms\n",
      "966:\tlearn: 360.7352658\ttotal: 2.98s\tremaining: 102ms\n",
      "967:\tlearn: 360.7048023\ttotal: 2.98s\tremaining: 98.7ms\n",
      "968:\tlearn: 360.6876431\ttotal: 2.99s\tremaining: 95.6ms\n",
      "969:\tlearn: 360.6590826\ttotal: 2.99s\tremaining: 92.5ms\n",
      "970:\tlearn: 360.6223243\ttotal: 2.99s\tremaining: 89.4ms\n"
     ]
    },
    {
     "name": "stdout",
     "output_type": "stream",
     "text": [
      "971:\tlearn: 360.5877016\ttotal: 3s\tremaining: 86.4ms\n",
      "972:\tlearn: 360.5454455\ttotal: 3s\tremaining: 83.3ms\n",
      "973:\tlearn: 360.5196583\ttotal: 3s\tremaining: 80.2ms\n",
      "974:\tlearn: 360.5067169\ttotal: 3.01s\tremaining: 77.1ms\n",
      "975:\tlearn: 360.4623925\ttotal: 3.01s\tremaining: 74ms\n",
      "976:\tlearn: 360.4491311\ttotal: 3.01s\tremaining: 70.9ms\n",
      "977:\tlearn: 360.4147866\ttotal: 3.01s\tremaining: 67.8ms\n",
      "978:\tlearn: 360.4022743\ttotal: 3.02s\tremaining: 64.7ms\n",
      "979:\tlearn: 360.3903493\ttotal: 3.02s\tremaining: 61.6ms\n",
      "980:\tlearn: 360.3468840\ttotal: 3.02s\tremaining: 58.6ms\n",
      "981:\tlearn: 360.3298077\ttotal: 3.03s\tremaining: 55.5ms\n",
      "982:\tlearn: 360.3083816\ttotal: 3.03s\tremaining: 52.4ms\n",
      "983:\tlearn: 360.2652939\ttotal: 3.03s\tremaining: 49.3ms\n",
      "984:\tlearn: 360.1796626\ttotal: 3.04s\tremaining: 46.2ms\n",
      "985:\tlearn: 360.1341392\ttotal: 3.04s\tremaining: 43.2ms\n",
      "986:\tlearn: 360.1018234\ttotal: 3.04s\tremaining: 40.1ms\n",
      "987:\tlearn: 360.0729849\ttotal: 3.04s\tremaining: 37ms\n",
      "988:\tlearn: 360.0558147\ttotal: 3.05s\tremaining: 33.9ms\n",
      "989:\tlearn: 360.0368526\ttotal: 3.05s\tremaining: 30.8ms\n",
      "990:\tlearn: 360.0221246\ttotal: 3.05s\tremaining: 27.7ms\n",
      "991:\tlearn: 360.0106776\ttotal: 3.06s\tremaining: 24.7ms\n",
      "992:\tlearn: 359.9936161\ttotal: 3.06s\tremaining: 21.6ms\n",
      "993:\tlearn: 359.9649102\ttotal: 3.06s\tremaining: 18.5ms\n",
      "994:\tlearn: 359.9360303\ttotal: 3.06s\tremaining: 15.4ms\n",
      "995:\tlearn: 359.9074109\ttotal: 3.07s\tremaining: 12.3ms\n",
      "996:\tlearn: 359.8636448\ttotal: 3.07s\tremaining: 9.24ms\n",
      "997:\tlearn: 359.8443892\ttotal: 3.07s\tremaining: 6.16ms\n",
      "998:\tlearn: 359.8244154\ttotal: 3.08s\tremaining: 3.08ms\n",
      "999:\tlearn: 359.8011935\ttotal: 3.08s\tremaining: 0us\n",
      "[20 17 25 23 37 25 46 28 24 50 10 20 50  6 49 43  5 27 22 18 24  2 26 49\n",
      " 21 48  8 49  8 13  8 33 11 37 44  9 17 16  3 45 28 16 15 14  7 43 46 40\n",
      " 14  8 25 17 37 32 12 18 14 38 24 20 32 31 20 40 42 26 47 40 21  1 43 24\n",
      " 11 33 46 36 18 50 34 35 39  9 34 44 35 30 39 19 43 48 37 20 36 30 42 26\n",
      " 40 35 46 49 49 35 27 45  4 36  8 15 19 12] [ 0.96018627  0.97706224  0.83836704  0.54070345 -0.13567303  0.00636109\n",
      " -0.46374951  0.25580528  0.85942408 -1.02013564  1.9992742   0.23888033\n",
      " -2.04845183 -0.15510628 -0.83537554 -0.35999109  0.57602164  0.93851429\n",
      "  0.82632378  0.4565681   0.04902474  2.42745568  0.32300212 -0.46447581\n",
      "  1.16220018 -0.15510628  2.22400878 -0.89723187  0.51890376  0.51844936\n",
      "  1.70944952  0.26250172 -0.06032798 -0.06819172 -0.82879076  1.84664984\n",
      "  0.41517692  1.37590466  1.73502847 -0.08767764  0.05063262  1.35550516\n",
      "  0.38611868  1.68337165  0.38710133 -0.34504803 -0.36066732 -0.30168083\n",
      "  0.34565909  0.65826381  0.76437323 -0.08767764 -0.50925391  0.0527827\n",
      "  1.65284915 -0.03719252  0.86557243 -0.22280807  0.98790168 -0.06499747\n",
      "  0.0123555  -0.17696437  0.40036004 -0.42283804 -0.19143632  0.45492186\n",
      " -0.09609722 -0.82879076  1.09757546  1.79583696 -0.16614426  0.06436672\n",
      "  1.86916044 -0.07799584 -0.12055876 -0.25396954  0.36024041 -2.28596455\n",
      "  0.14689554  0.14681173 -0.43859538  1.29864149  0.13284068 -0.81207316\n",
      " -0.33800879  0.60181196 -0.19867009  0.44877973 -0.38484401 -0.90041226\n",
      " -0.16144016  0.31860228  0.32743603 -0.46374951 -0.29370109 -0.23970325\n",
      " -0.11955905 -0.06032798 -0.56216254 -1.55641795 -1.66704322 -0.03719252\n",
      " -0.01804277 -0.5946014   0.20048928 -0.06032798  0.11227056  0.21243146\n",
      "  0.59200904  0.09928329]\n"
     ]
    },
    {
     "data": {
      "image/png": "[encoded data removed]",
      "text/plain": [
       "<Figure size 432x288 with 1 Axes>"
      ]
     },
     "metadata": {
      "needs_background": "light"
     },
     "output_type": "display_data"
    }
   ],
   "source": [
    "for i in range(0, 1):\n",
    "    if i == 0:\n",
    "        model.fit(X, t, sample_weight=sigma, verbose_eval=True)\n",
    "    else:\n",
    "        model.fit(X, t, sample_weight=sigma, verbose_eval=True, init_model=model)\n",
    "    prediction = model.predict(X)\n",
    "    \n",
    "    print(t.values, prediction)\n",
    "    \n",
    "    t[np.argsort(prediction)].reset_index(drop=True).plot()\n",
    "    plt.show()"
   ]
  },
  {
   "cell_type": "markdown",
   "metadata": {},
   "source": [
    "# Survival curve"
   ]
  },
  {
   "cell_type": "code",
   "execution_count": 37,
   "metadata": {},
   "outputs": [],
   "source": [
    "def calculate_base_risk(h, t):\n",
    "    d = np.arange(t.shape[0]) + 1\n",
    "    cumsum_h = np.cumsum(h[::-1])[::-1]\n",
    "    \n",
    "    return d / cumsum_h"
   ]
  },
  {
   "cell_type": "code",
   "execution_count": 38,
   "metadata": {},
   "outputs": [],
   "source": [
    "def get_unique_time(t):\n",
    "    t = t.copy()\n",
    "    t = t.astype(float)\n",
    "    for value in np.unique(t):\n",
    "        t[t == value] += np.arange(t[t == value].shape[0]) / (100 * t[t == value].shape[0])\n",
    "    return t"
   ]
  },
  {
   "cell_type": "code",
   "execution_count": 40,
   "metadata": {},
   "outputs": [],
   "source": [
    "train_h = np.exp(model.predict(X))\n",
    "train_t = get_unique_time(t)"
   ]
  },
  {
   "cell_type": "code",
   "execution_count": 50,
   "metadata": {},
   "outputs": [],
   "source": [
    "sorted_indices = np.argsort(train_t)"
   ]
  },
  {
   "cell_type": "code",
   "execution_count": 51,
   "metadata": {},
   "outputs": [],
   "source": [
    "sorted_train_t = train_t[sorted_indices]\n",
    "sorted_train_h = train_h[sorted_indices]"
   ]
  },
  {
   "cell_type": "code",
   "execution_count": 66,
   "metadata": {},
   "outputs": [],
   "source": [
    "h_base = calculate_base_risk(sorted_train_h, sorted_train_t)"
   ]
  },
  {
   "cell_type": "code",
   "execution_count": 67,
   "metadata": {},
   "outputs": [
    {
     "data": {
      "text/plain": [
       "[<matplotlib.lines.Line2D at 0x7f9f84fb61d0>]"
      ]
     },
     "execution_count": 67,
     "metadata": {},
     "output_type": "execute_result"
    },
    {
     "data": {
      "image/png": "[encoded data removed]",
      "text/plain": [
       "<Figure size 432x288 with 1 Axes>"
      ]
     },
     "metadata": {
      "needs_background": "light"
     },
     "output_type": "display_data"
    }
   ],
   "source": [
    "plt.plot(sorted_train_t, h_base)"
   ]
  },
  {
   "cell_type": "code",
   "execution_count": 68,
   "metadata": {},
   "outputs": [],
   "source": [
    "H_base = -np.cumsum(h_base)"
   ]
  },
  {
   "cell_type": "code",
   "execution_count": 69,
   "metadata": {},
   "outputs": [
    {
     "data": {
      "text/plain": [
       "[<matplotlib.lines.Line2D at 0x7f9f88e27c50>]"
      ]
     },
     "execution_count": 69,
     "metadata": {},
     "output_type": "execute_result"
    },
    {
     "data": {
      "image/png": "[encoded data removed]",
      "text/plain": [
       "<Figure size 432x288 with 1 Axes>"
      ]
     },
     "metadata": {
      "needs_background": "light"
     },
     "output_type": "display_data"
    }
   ],
   "source": [
    "plt.plot(sorted_train_t, H_base)"
   ]
  },
  {
   "cell_type": "code",
   "execution_count": 70,
   "metadata": {},
   "outputs": [],
   "source": [
    "S_base = np.exp(H_base)"
   ]
  },
  {
   "cell_type": "code",
   "execution_count": 71,
   "metadata": {},
   "outputs": [
    {
     "data": {
      "text/plain": [
       "[<matplotlib.lines.Line2D at 0x7f9f84fbf050>]"
      ]
     },
     "execution_count": 71,
     "metadata": {},
     "output_type": "execute_result"
    },
    {
     "data": {
      "image/png": "[encoded data removed]",
      "text/plain": [
       "<Figure size 432x288 with 1 Axes>"
      ]
     },
     "metadata": {
      "needs_background": "light"
     },
     "output_type": "display_data"
    }
   ],
   "source": [
    "plt.plot(sorted_train_t, S_base)"
   ]
  },
  {
   "cell_type": "code",
   "execution_count": 76,
   "metadata": {},
   "outputs": [],
   "source": [
    "S_matrix = S_base.reshape(1, -1) ** sorted_train_h.reshape(-1, 1)"
   ]
  },
  {
   "cell_type": "code",
   "execution_count": 92,
   "metadata": {},
   "outputs": [
    {
     "data": {
      "text/plain": [
       "<matplotlib.legend.Legend at 0x7f9f84baac50>"
      ]
     },
     "execution_count": 92,
     "metadata": {},
     "output_type": "execute_result"
    },
    {
     "data": {
      "image/png": "[encoded data removed]",
      "text/plain": [
       "<Figure size 432x288 with 1 Axes>"
      ]
     },
     "metadata": {
      "needs_background": "light"
     },
     "output_type": "display_data"
    }
   ],
   "source": [
    "plt.plot(sorted_train_t, S_matrix[1], label=str(sorted_train_t[1]) + \" weeks\")\n",
    "plt.plot(sorted_train_t, S_matrix[2], label=str(sorted_train_t[2]) + \" weeks\")\n",
    "plt.plot(sorted_train_t, S_matrix[4], label=str(sorted_train_t[4]) + \" weeks\")\n",
    "plt.xlim(0, 25)\n",
    "plt.legend()"
   ]
  }
 ],
 "metadata": {
  "kernelspec": {
   "display_name": "Python 3",
   "language": "python",
   "name": "python3"
  },
  "language_info": {
   "codemirror_mode": {
    "name": "ipython",
    "version": 3
   },
   "file_extension": ".py",
   "mimetype": "text/x-python",
   "name": "python",
   "nbconvert_exporter": "python",
   "pygments_lexer": "ipython3",
   "version": "3.7.6"
  }
 },
 "nbformat": 4,
 "nbformat_minor": 4
}
